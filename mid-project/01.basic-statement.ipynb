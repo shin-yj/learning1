{
 "cells": [
  {
   "cell_type": "code",
   "execution_count": 1,
   "metadata": {},
   "outputs": [
    {
     "name": "stdout",
     "output_type": "stream",
     "text": [
      "hello\n",
      "HELLO\n"
     ]
    }
   ],
   "source": [
    "print('hello')\n",
    "print(\"HELLO\")\n",
    "#print(hello) -> error (\"가 없으면 식별자가 되므로-> 식별자는 존재하는 이름) "
   ]
  },
  {
   "cell_type": "code",
   "execution_count": 2,
   "metadata": {},
   "outputs": [
    {
     "name": "stdout",
     "output_type": "stream",
     "text": [
      "first line        second line        third line\n",
      "first line \n",
      "         second line\n",
      "         third line\n"
     ]
    }
   ],
   "source": [
    "print(\"first line \\\n",
    "       second line \\\n",
    "       third line\")\n",
    "print('''first line \n",
    "         second line\n",
    "         third line''')"
   ]
  },
  {
   "cell_type": "code",
   "execution_count": 3,
   "metadata": {},
   "outputs": [
    {
     "name": "stdout",
     "output_type": "stream",
     "text": [
      "print\n"
     ]
    }
   ],
   "source": [
    "# print(\"no print\")\n",
    "print('print')"
   ]
  },
  {
   "cell_type": "code",
   "execution_count": 4,
   "metadata": {},
   "outputs": [
    {
     "name": "stdout",
     "output_type": "stream",
     "text": [
      "True\n"
     ]
    }
   ],
   "source": [
    "if True:\n",
    "    print('True')"
   ]
  },
  {
   "cell_type": "markdown",
   "metadata": {},
   "source": [
    "## 변수와 자료형\n",
    "### 변수와 자료형"
   ]
  },
  {
   "cell_type": "code",
   "execution_count": 5,
   "metadata": {},
   "outputs": [
    {
     "name": "stdout",
     "output_type": "stream",
     "text": [
      "John Doe / 32 / johndoe@example.com / 183.65 / None\n"
     ]
    }
   ],
   "source": [
    "name = \"John Doe\"\n",
    "age = 32\n",
    "email = 'johndoe@example.com'\n",
    "phone = \"010-1234-5678\" # 0으로 시작하는 숫자는 없으므로 문자형\n",
    "married = False # or True\n",
    "height = 183.65\n",
    "asset = None\n",
    "\n",
    "print(name, age, email, height, asset, \n",
    "      sep=' / ') # 변수명은 \"\" 안붙임"
   ]
  },
  {
   "cell_type": "code",
   "execution_count": 6,
   "metadata": {},
   "outputs": [
    {
     "name": "stdout",
     "output_type": "stream",
     "text": [
      "1 30 John\n",
      "1 24 Soe\n",
      "hello hoseo world\n",
      "123 432 353\n",
      "1000 2000 3000\n",
      "hi\n"
     ]
    },
    {
     "ename": "NameError",
     "evalue": "name 'f' is not defined",
     "output_type": "error",
     "traceback": [
      "\u001b[1;31m---------------------------------------------------------------------------\u001b[0m",
      "\u001b[1;31mNameError\u001b[0m                                 Traceback (most recent call last)",
      "\u001b[1;32m<ipython-input-6-33c060f1595e>\u001b[0m in \u001b[0;36m<module>\u001b[1;34m\u001b[0m\n\u001b[0;32m     12\u001b[0m \u001b[0mprint\u001b[0m\u001b[1;33m(\u001b[0m\u001b[0mf\u001b[0m\u001b[1;33m)\u001b[0m\u001b[1;33m\u001b[0m\u001b[1;33m\u001b[0m\u001b[0m\n\u001b[0;32m     13\u001b[0m \u001b[1;32mdel\u001b[0m \u001b[0mf\u001b[0m\u001b[1;33m\u001b[0m\u001b[1;33m\u001b[0m\u001b[0m\n\u001b[1;32m---> 14\u001b[1;33m \u001b[0mprint\u001b[0m\u001b[1;33m(\u001b[0m\u001b[0mf\u001b[0m\u001b[1;33m)\u001b[0m\u001b[1;33m\u001b[0m\u001b[1;33m\u001b[0m\u001b[0m\n\u001b[0m",
      "\u001b[1;31mNameError\u001b[0m: name 'f' is not defined"
     ]
    }
   ],
   "source": [
    "a,b,c=1,30,\"John\"\n",
    "print(a,b,c)\n",
    "a,b,c=(1,24,\"Soe\")\n",
    "print(a,b,c)\n",
    "(a,b,c)='hello','hoseo','world'\n",
    "print(a,b,c)\n",
    "[a,b,c]=123,432,353\n",
    "print(a,b,c)\n",
    "a,b,c=(1000,2000,3000)\n",
    "print(a,b,c)\n",
    "f='hi'\n",
    "print(f)\n",
    "del f\n",
    "print(f)"
   ]
  },
  {
   "cell_type": "code",
   "execution_count": null,
   "metadata": {},
   "outputs": [],
   "source": [
    "a=100\n",
    "print(a)\n",
    "del a\n",
    "print(a) # 쥬금"
   ]
  },
  {
   "cell_type": "code",
   "execution_count": null,
   "metadata": {},
   "outputs": [],
   "source": [
    "print(10/3) # 일반 나눗셈\n",
    "print(10 % 3) # 나머지 계산\n",
    "print(10 // 3) # 몫 계산\n",
    "print(10 ** 3) #거듭 제곱 연산"
   ]
  },
  {
   "cell_type": "code",
   "execution_count": null,
   "metadata": {},
   "outputs": [],
   "source": [
    "print(\"10\" + \"10\")\n",
    "print(10+10)\n",
    "print(int(\"10\")+int(\"10\")) # int는 소수점을 날린당 ~~\n",
    "print(float(\"11.11\")+float(\"22.22\"))"
   ]
  },
  {
   "cell_type": "code",
   "execution_count": null,
   "metadata": {},
   "outputs": [],
   "source": [
    "print(\"this is python\" * 2) # 문자열/배열 곱하깅~~~ -> 배열 반복\n",
    "print([1,2,3,4,5]*2) # 곱하기가 아닌 반복"
   ]
  },
  {
   "cell_type": "code",
   "execution_count": null,
   "metadata": {},
   "outputs": [],
   "source": [
    "a= 'happy birthday'\n",
    "a[3]\n",
    "a[3:5]\n",
    "b='puppy'\n",
    "b[1:3]"
   ]
  },
  {
   "cell_type": "code",
   "execution_count": null,
   "metadata": {},
   "outputs": [],
   "source": [
    "str_ = 'Life is too short, You need Python'\n",
    "print(str_)\n",
    "print(str_[0:4])\n",
    "print(str_[0:2])\n",
    "print(str_[5:8])\n",
    "print(str_[::2])\n",
    "print(str_[::3])"
   ]
  },
  {
   "cell_type": "code",
   "execution_count": null,
   "metadata": {},
   "outputs": [],
   "source": [
    "name='Jane doe'\n",
    "age=29\n",
    "email='janedoe@example.com'\n",
    "print('[',name,'][',age,'][',email,']')\n",
    "print('[ %s ][ %d ][ %s ]'%(name, age, email)) # 이걸 많이 씀 / 자료형을 나타냄\n",
    "print('[ {0} ][ {1} ][ {2} ]'.format(name, age, email)) # 권장 사항\n",
    "print('[ {2} ][ {0} ][ {1} ]'.format(age, email, name)) #자리만 바꿈"
   ]
  },
  {
   "cell_type": "code",
   "execution_count": null,
   "metadata": {},
   "outputs": [],
   "source": [
    "multiline = \"Life is too \\'short\\'!!!\\n\\tYou need \\\"python\\\"\"\n",
    "print(multiline)"
   ]
  },
  {
   "cell_type": "code",
   "execution_count": null,
   "metadata": {},
   "outputs": [],
   "source": [
    "print(','.join(['1','2','3','4','5'])) # data들을 ,로 이어줌\n",
    "print(','.join('12345')) # 같은 효과\n",
    "print(','.join([str(1), str(2), str(3), str(4), str(5)])) # 기존 str 변수 제거하기 위해 restart 사용했음"
   ]
  },
  {
   "cell_type": "code",
   "execution_count": null,
   "metadata": {},
   "outputs": [],
   "source": [
    "a = \"Life is too short\"\n",
    "b = a.split()\n",
    "print(a.split()) # 배열 표시, 목록으로 쪼개기\n",
    "print(b) # 위와 같음\n",
    "c= \":\".join(b) # 하나의 문장으로 만들겠다\n",
    "print(c)\n",
    "print(a.replace(\" \", \":\")) # 스페이스를 : 로"
   ]
  },
  {
   "cell_type": "code",
   "execution_count": null,
   "metadata": {},
   "outputs": [],
   "source": []
  }
 ],
 "metadata": {
  "kernelspec": {
   "display_name": "Python 3",
   "language": "python",
   "name": "python3"
  },
  "language_info": {
   "codemirror_mode": {
    "name": "ipython",
    "version": 3
   },
   "file_extension": ".py",
   "mimetype": "text/x-python",
   "name": "python",
   "nbconvert_exporter": "python",
   "pygments_lexer": "ipython3",
   "version": "3.6.10"
  }
 },
 "nbformat": 4,
 "nbformat_minor": 4
}
