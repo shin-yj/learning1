{
 "cells": [
  {
   "cell_type": "code",
   "execution_count": 13,
   "metadata": {},
   "outputs": [
    {
     "name": "stdout",
     "output_type": "stream",
     "text": [
      "[1, 2, 3, 4, 5, 6, 7, 8, 9]\n",
      "6\n",
      "[3, 4, 5]\n",
      "[1, 2, 3, 4, 5]\n",
      "[4, 5, 6, 7, 8, 9]\n",
      "[1, 2, 3, 4, 5, 6, 7, 8, 9]\n",
      "[1, 3, 5, 7, 9]\n"
     ]
    },
    {
     "ename": "IndexError",
     "evalue": "list index out of range",
     "output_type": "error",
     "traceback": [
      "\u001b[1;31m---------------------------------------------------------------------------\u001b[0m",
      "\u001b[1;31mIndexError\u001b[0m                                Traceback (most recent call last)",
      "\u001b[1;32m<ipython-input-13-7b73ac24169b>\u001b[0m in \u001b[0;36m<module>\u001b[1;34m\u001b[0m\n\u001b[0;32m      6\u001b[0m \u001b[0mprint\u001b[0m\u001b[1;33m(\u001b[0m\u001b[0ma\u001b[0m\u001b[1;33m[\u001b[0m\u001b[1;33m:\u001b[0m\u001b[1;33m]\u001b[0m\u001b[1;33m)\u001b[0m \u001b[1;31m# 처음에서 끝까지\u001b[0m\u001b[1;33m\u001b[0m\u001b[1;33m\u001b[0m\u001b[0m\n\u001b[0;32m      7\u001b[0m \u001b[0mprint\u001b[0m\u001b[1;33m(\u001b[0m\u001b[0ma\u001b[0m\u001b[1;33m[\u001b[0m\u001b[1;33m:\u001b[0m\u001b[1;33m:\u001b[0m\u001b[1;36m2\u001b[0m\u001b[1;33m]\u001b[0m\u001b[1;33m)\u001b[0m \u001b[1;31m# 처음부터 끝까지 2씩 증가하는 데이터\u001b[0m\u001b[1;33m\u001b[0m\u001b[1;33m\u001b[0m\u001b[0m\n\u001b[1;32m----> 8\u001b[1;33m \u001b[0mprint\u001b[0m\u001b[1;33m(\u001b[0m\u001b[0ma\u001b[0m\u001b[1;33m[\u001b[0m\u001b[1;36m15\u001b[0m\u001b[1;33m]\u001b[0m\u001b[1;33m)\u001b[0m\u001b[1;33m\u001b[0m\u001b[1;33m\u001b[0m\u001b[0m\n\u001b[0m",
      "\u001b[1;31mIndexError\u001b[0m: list index out of range"
     ]
    }
   ],
   "source": [
    "a=[1,2,3,4,5,6,7,8,9]\n",
    "print(a)\n",
    "print(a[5]) # 6번 째 데이터! 0번부터 시작하는 인덱싱\n",
    "print(a[2:5])# 2 ~ 4까지! 5는 포함 안됨!\n",
    "print(a[:5]) # 0(포함) ~ 5(불포함)범위의 데이터\n",
    "print(a[3:]) # 3 ~끝까지\n",
    "print(a[:]) # 처음에서 끝까지\n",
    "print(a[::2]) # 처음부터 끝까지 2씩 증가하는 데이터\n",
    "print(a[15]) # 범위 벗어나는 인덱싱은 오류"
   ]
  },
  {
   "cell_type": "code",
   "execution_count": 19,
   "metadata": {},
   "outputs": [
    {
     "name": "stdout",
     "output_type": "stream",
     "text": [
      "오\n",
      "['6-1', '6-2']\n",
      "6-1\n"
     ]
    }
   ],
   "source": [
    "b = [1,2,3,'사','오',['6-1','6-2'],7]\n",
    "print(b[4])\n",
    "print(b[5]) # 5번째 요소는 리스트, 한 덩어리의 데이터\n",
    "print(b[5][0]) # 리스트 안의 0번째 요소"
   ]
  },
  {
   "cell_type": "code",
   "execution_count": 25,
   "metadata": {},
   "outputs": [
    {
     "name": "stdout",
     "output_type": "stream",
     "text": [
      "[10, 20, 30, 40, 50]\n",
      "30\n"
     ]
    }
   ],
   "source": [
    "c=[[1 , 2 , 3 , 4 , 5],\n",
    "  [10 , 20 , 30 , 40 , 50],\n",
    "  [100 , 200 , 300 , 400 , 500],\n",
    "  [1000 , 2000 , 3000 , 4000 , 5000]]\n",
    "print(c[1]) # 두 번째 행\n",
    "print(c[1][2])"
   ]
  },
  {
   "cell_type": "code",
   "execution_count": 28,
   "metadata": {},
   "outputs": [
    {
     "name": "stdout",
     "output_type": "stream",
     "text": [
      "[[5, 6, 7, 8, 9], [10, 20, 30, 40, 50], [100, 200, 300, 400, 500], [1000, 2000, 3000, 4000, 5000]]\n",
      "[100, 200, 300, 400, 500]\n",
      "400\n"
     ]
    }
   ],
   "source": [
    "d=[\n",
    "    [[1 , 2 , 3 , 4 , 5],\n",
    "     [10 , 20 , 30 , 40 , 50],\n",
    "     [100 , 200 , 300 , 400 , 500],\n",
    "     [1000 , 2000 , 3000 , 4000 , 5000]],\n",
    "    [[5 , 6 , 7 , 8 , 9],\n",
    "     [10 , 20 , 30 , 40 , 50],\n",
    "     [100 , 200 , 300 , 400 , 500],\n",
    "     [1000 , 2000 , 3000 , 4000 , 5000]]\n",
    "    ]\n",
    "\n",
    "print(d[1])\n",
    "print(d[1][2])\n",
    "print(d[1][2][3])"
   ]
  },
  {
   "cell_type": "code",
   "execution_count": 29,
   "metadata": {},
   "outputs": [
    {
     "name": "stdout",
     "output_type": "stream",
     "text": [
      "[1, 2, 3, 4, 10, 20, 30, 40]\n",
      "[1, 2, 3, 4, 1, 2, 3, 4, 1, 2, 3, 4]\n"
     ]
    }
   ],
   "source": [
    "e1=[1,2,3,4] # []니까 list~~\n",
    "e2=[10,20,30,40]\n",
    "print(e1+e2) # list에 있어서 +는 더하는 게 아닌 합치는 것\n",
    "print(e1*3) # list의 scalar곱은 반복"
   ]
  },
  {
   "cell_type": "code",
   "execution_count": 34,
   "metadata": {},
   "outputs": [
    {
     "name": "stdout",
     "output_type": "stream",
     "text": [
      "[10, 20, 30, 40, 50]\n",
      "[10, 20, 1000, 40, 50]\n",
      "[10, 20, [123, 123], 40, 50]\n",
      "[10, 20, [123, 123], 456, 456, 50]\n"
     ]
    }
   ],
   "source": [
    "f= [10,20,30,40,50]\n",
    "print(f)\n",
    "f[2]=1000\n",
    "print(f)\n",
    "f[2]=[123, 123] # indexing : 하나의 항목을 1:1로 대치\n",
    "print(f)\n",
    "f[3:4] = [456, 456] # slicing : 범위의 대치 -> 리스트가 들어가면 해체되어 넣음!(3,4번째에 넣고 기존 50은 5번째로 들어감) , 하나여도 범위로 봄\n",
    "print(f)"
   ]
  },
  {
   "cell_type": "code",
   "execution_count": 38,
   "metadata": {},
   "outputs": [
    {
     "name": "stdout",
     "output_type": "stream",
     "text": [
      "[1, 2, 3, 4, 5, 6, 7, 8, 9]\n",
      "[1, 2, 3, 4, 5, 7, 8, 9]\n",
      "[1, 2, 7, 8, 9]\n",
      "[None, 2, 7, 8, 9]\n"
     ]
    }
   ],
   "source": [
    "g=[1,2,3,4,5,6,7,8,9]\n",
    "print(g)\n",
    "del g[5] # 단일 데이터 제거\n",
    "print(g)\n",
    "g[2:5]=[] # 여러개의 데이터 제거~\n",
    "print(g) \n",
    "g[0]=None # none(missing value, 결측치)은 비우는 것이 아니라 그자체의 data임\n",
    "print(g)"
   ]
  },
  {
   "cell_type": "code",
   "execution_count": 41,
   "metadata": {},
   "outputs": [
    {
     "name": "stdout",
     "output_type": "stream",
     "text": [
      "[1, 2, 3]\n",
      "[1, 2, 3, 4]\n",
      "[1, 2, 3, 4, [51, 52]]\n",
      "[100, 1, -100, 2, 3, 4, [51, 52]]\n"
     ]
    }
   ],
   "source": [
    "h=[1,2,3]\n",
    "print(h)\n",
    "h.append(4)\n",
    "print(h)\n",
    "h.append([51,52]) # append는 끝에 붙음\n",
    "print(h)\n",
    "h.insert(0,100) # 0번째에 100\n",
    "h.insert(2,-100)\n",
    "print(h)"
   ]
  },
  {
   "cell_type": "code",
   "execution_count": 51,
   "metadata": {},
   "outputs": [
    {
     "name": "stdout",
     "output_type": "stream",
     "text": [
      "[1, 7, 4, 8, 3]\n",
      "[1, 3, 4, 7, 8]\n",
      "[8, 7, 4, 3, 1]\n",
      "********************\n",
      "[1, 7, 4, 8, 3]\n",
      "[8, 7, 4, 3, 1]\n",
      "********************\n",
      "[1, 7, 4, 8, 3]\n",
      "[1, 7, 4, 8, 3]\n",
      "[8, 7, 4, 3, 1]\n"
     ]
    }
   ],
   "source": [
    "i=[1,7,4,8,3]\n",
    "print(i)\n",
    "i.sort() # 오름차순 정렬 (배열 자체를 변경)\n",
    "print(i)\n",
    "i.reverse() # 배열 순서 뒤집기 (배열 자체 변경)\n",
    "print(i)\n",
    "\n",
    "print(\"*\" * 20)\n",
    "\n",
    "i=[1,7,4,8,3]\n",
    "print(i)\n",
    "i.sort(reverse=True) # 내림차순 정렬(sort,reverse한 결과와 같다)\n",
    "print(i)\n",
    "\n",
    "print(\"*\" * 20)\n",
    "\n",
    "i=[1,7,4,8,3]\n",
    "print(i)\n",
    "#i2=sorted(i) # 정렬 (정렬된 !새로운 배열! 생성) -> #.sort =/ sorted(#)\n",
    "i2=sorted(i,reverse=True) # sorted에서 내림차순\n",
    "print(i)\n",
    "print(i2)"
   ]
  },
  {
   "cell_type": "code",
   "execution_count": 56,
   "metadata": {},
   "outputs": [
    {
     "name": "stdout",
     "output_type": "stream",
     "text": [
      "[1, 2, 3, 4, 5]\n",
      "5 [1, 2, 3, 4, 5]\n",
      "2 [1, 3, 4, 5]\n"
     ]
    }
   ],
   "source": [
    "j=[1,2,3,4,5]\n",
    "print(j)\n",
    "j2=j[4]\n",
    "print(j2, j)\n",
    "j2=j.pop(1) # data 읽어오면서 읽은 것 날려버리기(비복원추출)\n",
    "print(j2, j)"
   ]
  },
  {
   "cell_type": "code",
   "execution_count": 59,
   "metadata": {},
   "outputs": [
    {
     "name": "stdout",
     "output_type": "stream",
     "text": [
      "[1, 2, 3, [4, 5]]\n",
      "[1, 2, 3, 4, 5]\n"
     ]
    }
   ],
   "source": [
    "k=[1,2,3]\n",
    "k.append([4,5]) # [4,5]를 하나의 요소로 추가\n",
    "print(k)\n",
    "k=[1,2,3]\n",
    "k.extend([4,5]) # [4,5]를 풀어서 두 개의 요소로 추가\n",
    "print(k)"
   ]
  },
  {
   "cell_type": "code",
   "execution_count": 60,
   "metadata": {},
   "outputs": [
    {
     "name": "stdout",
     "output_type": "stream",
     "text": [
      "[1, 2, 3]\n",
      "[]\n"
     ]
    }
   ],
   "source": [
    "l=[1,2,3]\n",
    "print(l)\n",
    "l.clear()\n",
    "print(l)"
   ]
  },
  {
   "cell_type": "code",
   "execution_count": 1,
   "metadata": {},
   "outputs": [
    {
     "name": "stdout",
     "output_type": "stream",
     "text": [
      "1\n",
      "(2, 3)\n",
      "(1, 2, 3)\n",
      "(2, 3, 4, 5)\n"
     ]
    }
   ],
   "source": [
    "tpl = (1, 2, 3, 4, 5)\n",
    "print(tpl[0])\n",
    "print(tpl[1:3])\n",
    "print(tpl[:3])\n",
    "print(tpl[1:])\n",
    "# del tpl[3] 수정 불가이므로 지울 수 없음\n",
    "# tpl[3] = 2 -> 수정 불가"
   ]
  },
  {
   "cell_type": "code",
   "execution_count": 2,
   "metadata": {},
   "outputs": [
    {
     "name": "stdout",
     "output_type": "stream",
     "text": [
      "<class 'tuple'>\n"
     ]
    }
   ],
   "source": [
    "tpl2 = 1,2 # 괄호 안 씀 -> 튜플\n",
    "print(type(tpl2)) # 목록이라고 생각이 되면 파이선은 튜플로 바꿈"
   ]
  },
  {
   "cell_type": "code",
   "execution_count": 3,
   "metadata": {},
   "outputs": [
    {
     "name": "stdout",
     "output_type": "stream",
     "text": [
      "1\n",
      "{'no': 1, 'name ': 'John Doe', 'phone': '010-6587-2169'}\n"
     ]
    }
   ],
   "source": [
    "#dictionary\n",
    "d = { 'no' : 1, 'name ' : 'John Doe', 'email' : 'johndoe@example.com','phone': '010-6587-2169'}\n",
    "print(d['no']) # d[0]불가, key로 불러야 함. key가 'no'인 데이터 검색\n",
    "del d['email']\n",
    "print(d)\n",
    "# print(d['no':'email']) # 슬라이싱은 불가!!\n",
    "# print(d['no':'email']) 슬라이싱 불가"
   ]
  },
  {
   "cell_type": "code",
   "execution_count": 4,
   "metadata": {},
   "outputs": [
    {
     "name": "stdout",
     "output_type": "stream",
     "text": [
      "{'no': 1, 'name ': 'John Doe', 'email': 'johndoe@example.com', 'phone': '010-6587-2169'}\n",
      "{'no': 1, 'name ': 'John Doe', 'email': 'johndoe@example.com', 'phone': '010-6587-2169'}\n",
      "dict_keys(['a', 'b'])\n"
     ]
    }
   ],
   "source": [
    "persons = [{ \n",
    "    'no' : 1,\n",
    "    'name ' : 'John Doe',\n",
    "    'email' : 'johndoe@example.com',\n",
    "    'phone': '010-6587-2169'\n",
    "}, { \n",
    "    'no' : 1,\n",
    "    'name ' : 'Jane Doe',\n",
    "    'email' : 'janedoe@example.com',\n",
    "    'phone': '010-4796-1346'\n",
    "}] # []리스트로 정의 (내용만 관리)\n",
    "persons2 = {'a' : { \n",
    "    'no' : 1,\n",
    "    'name ' : 'John Doe',\n",
    "    'email' : 'johndoe@example.com',\n",
    "    'phone': '010-6587-2169'\n",
    "}, 'b' : { \n",
    "    'no' : 1,\n",
    "    'name ' : 'Jane Doe',\n",
    "    'email' : 'janedoe@example.com',\n",
    "    'phone': '010-4796-1346'\n",
    "}}# 딕셔너리(각 데이터에 구분할 수 있는 구분자(이름)를 줌) -> 더 분류하기 간단하긴 함\n",
    "\n",
    "print(persons[0])\n",
    "print(persons2['a']) #어떠한 방식으로 데이터를 관리하고 저장할 것인지의 차이임\n",
    "print(persons2.keys()) # 2개 관리 , a가 만약 두개면 overwrite됨. 두 개일 경우에도 a,b로 나타남"
   ]
  },
  {
   "cell_type": "code",
   "execution_count": null,
   "metadata": {},
   "outputs": [],
   "source": []
  }
 ],
 "metadata": {
  "kernelspec": {
   "display_name": "Python 3",
   "language": "python",
   "name": "python3"
  },
  "language_info": {
   "codemirror_mode": {
    "name": "ipython",
    "version": 3
   },
   "file_extension": ".py",
   "mimetype": "text/x-python",
   "name": "python",
   "nbconvert_exporter": "python",
   "pygments_lexer": "ipython3",
   "version": "3.6.10"
  }
 },
 "nbformat": 4,
 "nbformat_minor": 4
}
