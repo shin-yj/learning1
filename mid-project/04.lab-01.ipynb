{
 "cells": [
  {
   "cell_type": "code",
   "execution_count": 10,
   "metadata": {},
   "outputs": [
    {
     "name": "stdin",
     "output_type": "stream",
     "text": [
      "1.가위, 2.바위, 3.보 :  2\n"
     ]
    },
    {
     "name": "stdout",
     "output_type": "stream",
     "text": [
      "[com : 3][you : 2]\n",
      "바위\n",
      "보\n",
      "졌습니다.\n"
     ]
    }
   ],
   "source": [
    "# random 정수 (1, 2, 3)를 뽑아서 변수에 저장\n",
    "# 사용자 숫자입력 (1, 2, 3) 받아서 변수에 저장\n",
    "# 사용자 입력은 문자열이므로 숫자로 변환\n",
    "# 사용자 입력을 가위, 바위, 보로 출력\n",
    "# Random 정수도 가위, 바위, 보로 출력\n",
    "# 기준 -> 1:가위, 2:바위, 3:보 \n",
    "\n",
    "import random\n",
    "\n",
    "com = random.randint(1, 3)\n",
    "you = input(\"1.가위, 2.바위, 3.보 : \")\n",
    "you = int(you)\n",
    "print(\"[com : {0}][you : {1}]\".format(com, you))\n",
    "\n",
    "if you == 1:\n",
    "    print(\"가위\")\n",
    "elif you == 2:\n",
    "    print(\"바위\")\n",
    "else:\n",
    "    print(\"보\")\n",
    "    \n",
    "if com == 1:\n",
    "    print(\"가위\")\n",
    "elif com == 2:\n",
    "    print(\"바위\")\n",
    "else:\n",
    "    print(\"보\")\n",
    "    \n",
    "if you == com:\n",
    "    print(\"무승부\")\n",
    "elif (you == 1 and com == 3) or \\\n",
    "     (you == 2 and com == 1) or \\\n",
    "     (you == 3 and com == 2):\n",
    "    print(\"이겼습니다.\")\n",
    "else:\n",
    "    print(\"졌습니다.\")\n"
   ]
  },
  {
   "cell_type": "code",
   "execution_count": 15,
   "metadata": {},
   "outputs": [
    {
     "name": "stdin",
     "output_type": "stream",
     "text": [
      "1.가위, 2.바위, 3.보 :  1\n"
     ]
    },
    {
     "name": "stdout",
     "output_type": "stream",
     "text": [
      "[com : 1][you : 1]\n",
      "무승부\n"
     ]
    },
    {
     "name": "stdin",
     "output_type": "stream",
     "text": [
      "1.가위, 2.바위, 3.보 :  1\n"
     ]
    },
    {
     "name": "stdout",
     "output_type": "stream",
     "text": [
      "[com : 1][you : 1]\n",
      "무승부\n"
     ]
    },
    {
     "name": "stdin",
     "output_type": "stream",
     "text": [
      "1.가위, 2.바위, 3.보 :  1\n"
     ]
    },
    {
     "name": "stdout",
     "output_type": "stream",
     "text": [
      "[com : 2][you : 1]\n",
      "졌습니다.\n"
     ]
    }
   ],
   "source": [
    "import random\n",
    "\n",
    "draw = True\n",
    "\n",
    "while draw:\n",
    "    com = random.randint(1, 3)\n",
    "    you = input(\"1.가위, 2.바위, 3.보 : \")\n",
    "    you = int(you)\n",
    "\n",
    "    print(\"[com : {0}][you : {1}]\".format(com, you))\n",
    "\n",
    "    if you == com:\n",
    "        print(\"무승부\")\n",
    "    elif (you == 1 and com == 3) or \\\n",
    "         (you == 2 and com == 1) or \\\n",
    "         (you == 3 and com == 2):\n",
    "        print(\"이겼습니다.\")\n",
    "        draw = False\n",
    "    else:\n",
    "        print(\"졌습니다.\")\n",
    "        draw = False\n"
   ]
  },
  {
   "cell_type": "code",
   "execution_count": 48,
   "metadata": {},
   "outputs": [
    {
     "name": "stdout",
     "output_type": "stream",
     "text": [
      "[0][4][3]\n"
     ]
    }
   ],
   "source": [
    "# 1. 0 ~ 9 난수 3개 뽑기\n",
    "# 2. 중복 확인 -> 중복되면 다시 1번부터\n",
    "# 3. 뽑힌 숫자 출력\n",
    "\n",
    "import random\n",
    "\n",
    "n1 = n2 = n3 = 0\n",
    "again = True\n",
    "\n",
    "while again:\n",
    "    n1 = random.randint(0, 9)\n",
    "    n2 = random.randint(0, 9)\n",
    "    n3 = random.randint(0, 9)\n",
    "\n",
    "    # if n1 != n2 and n1 != n3 and n2 != n3:\n",
    "    if not (n1 == n2 or n1 == n3 or n2 == n3):\n",
    "        again = False\n",
    "        \n",
    "print(\"[{0}][{1}][{2}]\".format(n1, n2, n3))\n",
    "    "
   ]
  },
  {
   "cell_type": "code",
   "execution_count": 73,
   "metadata": {},
   "outputs": [
    {
     "name": "stdout",
     "output_type": "stream",
     "text": [
      "[4][0][2][TOTAL: 6][MEAN: 2.0]\n"
     ]
    }
   ],
   "source": [
    "# 1. 0 ~ 9 난수 3개 뽑기\n",
    "# 2. 중복 확인 -> 중복되면 다시 1번부터\n",
    "# 3. 뽑힌 숫자 출력\n",
    "\n",
    "import random\n",
    "\n",
    "n = [0, 0, 0]\n",
    "again = True\n",
    "\n",
    "while again:\n",
    "    for idx in range(3):\n",
    "        n[idx] = random.randint(0, 9)\n",
    "\n",
    "    if n[0] != n[1] and \\\n",
    "       n[0] != n[2] and \\\n",
    "       n[1] != n[2]:    \n",
    "        again = False\n",
    "\n",
    "for n2 in n:\n",
    "    print(\"[{0}]\".format(n2), end=\"\")\n",
    "    \n",
    "# 뽑힌 숫자의 합과 평균을 계산하고 출력\n",
    "total = 0\n",
    "for n2 in n: # for n2 in [1, 2, 3]\n",
    "    total += n2\n",
    "cnt = len(n) # len(list) : list에 포함된 요소 갯수\n",
    "print(\"[TOTAL: {0}][MEAN: {1}]\".format(total, total/cnt))\n",
    "    "
   ]
  },
  {
   "cell_type": "code",
   "execution_count": 14,
   "metadata": {},
   "outputs": [
    {
     "name": "stdout",
     "output_type": "stream",
     "text": [
      "[7][1][9]"
     ]
    },
    {
     "name": "stdin",
     "output_type": "stream",
     "text": [
      "공격하세요(숫자 숫자 숫자) :  1 1 1 1\n"
     ]
    },
    {
     "name": "stdout",
     "output_type": "stream",
     "text": [
      "1 1 1 1\n",
      "입력 오류.\n"
     ]
    },
    {
     "name": "stdin",
     "output_type": "stream",
     "text": [
      "공격하세요(숫자 숫자 숫자) :  1 1\n"
     ]
    },
    {
     "name": "stdout",
     "output_type": "stream",
     "text": [
      "1 1\n",
      "입력 오류.\n"
     ]
    },
    {
     "name": "stdin",
     "output_type": "stream",
     "text": [
      "공격하세요(숫자 숫자 숫자) :  1 1 1\n"
     ]
    },
    {
     "name": "stdout",
     "output_type": "stream",
     "text": [
      "1 1 1\n",
      "[1, 1, 1]\n",
      "ROUND 1 : [S:1][B:2][O:0]\n"
     ]
    },
    {
     "name": "stdin",
     "output_type": "stream",
     "text": [
      "공격하세요(숫자 숫자 숫자) :  7 1 9\n"
     ]
    },
    {
     "name": "stdout",
     "output_type": "stream",
     "text": [
      "7 1 9\n",
      "[7, 1, 9]\n",
      "ROUND 2 : [S:3][B:0][O:0]\n",
      "You Win !!!\n"
     ]
    }
   ],
   "source": [
    "# 1. 0 ~ 9 난수 3개 뽑기\n",
    "# 2. 중복 확인 -> 중복되면 다시 1번부터\n",
    "# 3. 뽑힌 숫자 출력\n",
    "\n",
    "import random\n",
    "\n",
    "n = [0, 0, 0]\n",
    "again = True\n",
    "\n",
    "while again:\n",
    "    for idx in range(3):\n",
    "        n[idx] = random.randint(0, 9)\n",
    "\n",
    "    if n[0] != n[1] and \\\n",
    "       n[0] != n[2] and \\\n",
    "       n[1] != n[2]:    \n",
    "        again = False\n",
    "\n",
    "for n2 in n:\n",
    "    print(\"[{0}]\".format(n2), end=\"\")\n",
    "\n",
    "#####\n",
    "\n",
    "win = False # 승/패 결과 저장하는 변수\n",
    "\n",
    "for rnd in range(10):\n",
    "\n",
    "    while True:\n",
    "        line = input('공격하세요(숫자 숫자 숫자) : ')\n",
    "        print(line)\n",
    "        numbers = line.split(' ') # '1 2 3' -> ['1','2','3']\n",
    "        if len(numbers) == 3:\n",
    "            break\n",
    "        else:\n",
    "            print(\"입력 오류.\")\n",
    "        \n",
    "    # 아래 반복문은 ['1','2','3'] -> [1, 2, 3]으로 변경\n",
    "    for idx in range( len(numbers) ):\n",
    "        numbers[idx] = int(numbers[idx])\n",
    "    print(numbers)\n",
    "\n",
    "    #####\n",
    "    s = b = o = 0\n",
    "    for i in range( len(numbers) ): # 입력 숫자 순회\n",
    "        for j in range( len(n) ): # 뽑힌 숫자 순회\n",
    "            if (numbers[i] == n[j]) and (i == j):\n",
    "                # pass # strike\n",
    "                s += 1\n",
    "            elif (numbers[i] == n[j]) and (i != j):\n",
    "                # pass # ball\n",
    "                b += 1\n",
    "\n",
    "    o = 3 - (s + b)\n",
    "\n",
    "    print(\"ROUND {0} : [S:{1}][B:{2}][O:{3}]\".format(rnd+1, s, b, o))\n",
    "    \n",
    "    if s == 3:\n",
    "        win = True\n",
    "        break # 반복문 종료\n",
    "        \n",
    "if win:\n",
    "    print(\"You Win !!!\")\n",
    "else:\n",
    "    print(\"You Failed !!!\")\n"
   ]
  },
  {
   "cell_type": "code",
   "execution_count": null,
   "metadata": {},
   "outputs": [],
   "source": []
  },
  {
   "cell_type": "code",
   "execution_count": 22,
   "metadata": {},
   "outputs": [
    {
     "name": "stdin",
     "output_type": "stream",
     "text": [
      "숫자를 입력하세요 :  백\n"
     ]
    },
    {
     "name": "stdout",
     "output_type": "stream",
     "text": [
      "숫자 형식이 아닙니다.\n"
     ]
    },
    {
     "name": "stdin",
     "output_type": "stream",
     "text": [
      "숫자를 입력하세요 :  100\n"
     ]
    },
    {
     "name": "stdout",
     "output_type": "stream",
     "text": [
      "SUM OF 1 ~ 100 : 5050\n"
     ]
    }
   ],
   "source": [
    "# [ 계산기 만들기 ]\n",
    "# 숫자 입력\n",
    "# 1부터 입력한 숫자까지의 합 계산\n",
    "# (1 + 2 + 3 + 4 + 5 + ... + 10)\n",
    "# ((1 + 2) + 3 ) + 4\n",
    "# 출력\n",
    "\n",
    "while True:\n",
    "    number = input(\"숫자를 입력하세요 : \")\n",
    "    if number.isdigit():\n",
    "        break\n",
    "    else:\n",
    "        print(\"숫자 형식이 아닙니다.\")\n",
    "\n",
    "number = int(number)\n",
    "\n",
    "sum = 0\n",
    "for idx in range(1, number + 1):\n",
    "    # print(idx)\n",
    "    sum += idx\n",
    "    \n",
    "print(\"SUM OF {0} ~ {1} : {2}\".format(1, number, sum))\n",
    "\n",
    "\n"
   ]
  },
  {
   "cell_type": "code",
   "execution_count": 20,
   "metadata": {},
   "outputs": [
    {
     "name": "stdout",
     "output_type": "stream",
     "text": [
      "True\n",
      "False\n"
     ]
    }
   ],
   "source": [
    "print( \"10\".isdigit() )\n",
    "print( \"십\".isdigit() )"
   ]
  },
  {
   "cell_type": "code",
   "execution_count": null,
   "metadata": {},
   "outputs": [],
   "source": []
  },
  {
   "cell_type": "code",
   "execution_count": 50,
   "metadata": {},
   "outputs": [
    {
     "data": {
      "text/plain": [
       "[19, 26, 32, 35, 39, 41]"
      ]
     },
     "execution_count": 50,
     "metadata": {},
     "output_type": "execute_result"
    }
   ],
   "source": [
    "# 1 ~ 45 중복되지 않는 6개 숫자 뽑기\n",
    "import random\n",
    "\n",
    "rng = range(1, 46)\n",
    "lst = list(rng)\n",
    "numbers = random.sample(lst, 6) # 비복원 램덤 샘플링\n",
    "numbers.sort()\n",
    "numbers"
   ]
  },
  {
   "cell_type": "code",
   "execution_count": 63,
   "metadata": {},
   "outputs": [
    {
     "name": "stdout",
     "output_type": "stream",
     "text": [
      "[MEAN : 18.5]\n",
      "[MEAN : 17.666666666666668]\n",
      "[MEAN : 16.72222222222222]\n",
      "[MEAN : 20.125]\n",
      "SELECTED NUMBERS : [31][2][18][25][8][27][4][22][13][26][1][35][32][7][11][5][20][14][33][34][17][38][45][15]\n"
     ]
    }
   ],
   "source": [
    "import random\n",
    "\n",
    "numbers = []\n",
    "\n",
    "while True:\n",
    "    idx = 0\n",
    "    while idx < 6:\n",
    "        number = random.randint(1, 45) # 새로 뽑은 숫자\n",
    "        dup = False\n",
    "        if len(numbers) > 0:\n",
    "            for n in numbers: # 이미 뽑힌 숫자를 순회\n",
    "                if n == number: # 중복인 경우\n",
    "                    dup = True\n",
    "                    # idx = 0\n",
    "                    # numbers.clear()\n",
    "                    break\n",
    "        if not dup:\n",
    "            numbers.append(number)\n",
    "            idx += 1\n",
    "            \n",
    "    # 평균 검사\n",
    "    total = 0\n",
    "    for n in numbers:\n",
    "        total += n\n",
    "    mean = total / len(numbers)\n",
    "    print(\"[MEAN : {0}]\".format(mean))\n",
    "    # if mean >= 20 and mean <= 26:\n",
    "    if 20 <= mean <= 26:\n",
    "        break\n",
    "    \n",
    "print(\"SELECTED NUMBERS : \", end=\"\")\n",
    "for n in numbers:\n",
    "    print(\"[{0}]\".format(n), end=\"\")\n",
    "print()"
   ]
  },
  {
   "cell_type": "code",
   "execution_count": null,
   "metadata": {},
   "outputs": [],
   "source": []
  }
 ],
 "metadata": {
  "kernelspec": {
   "display_name": "Python 3",
   "language": "python",
   "name": "python3"
  },
  "language_info": {
   "codemirror_mode": {
    "name": "ipython",
    "version": 3
   },
   "file_extension": ".py",
   "mimetype": "text/x-python",
   "name": "python",
   "nbconvert_exporter": "python",
   "pygments_lexer": "ipython3",
   "version": "3.6.10"
  }
 },
 "nbformat": 4,
 "nbformat_minor": 4
}
