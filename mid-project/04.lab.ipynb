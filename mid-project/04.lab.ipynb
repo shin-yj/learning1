{
 "cells": [
  {
   "cell_type": "code",
   "execution_count": 50,
   "metadata": {},
   "outputs": [
    {
     "name": "stdout",
     "output_type": "stream",
     "text": [
      "2\n",
      "바위\n"
     ]
    },
    {
     "name": "stdin",
     "output_type": "stream",
     "text": [
      " 1.가위, 2.바위,3.보 중 고르시오 :  2\n"
     ]
    },
    {
     "name": "stdout",
     "output_type": "stream",
     "text": [
      "바위\n"
     ]
    },
    {
     "name": "stdin",
     "output_type": "stream",
     "text": [
      "1.가위, 2.바위, 3.보 :  3\n"
     ]
    },
    {
     "name": "stdout",
     "output_type": "stream",
     "text": [
      "[com : 1][you : 3]\n",
      "보\n",
      "가위\n"
     ]
    }
   ],
   "source": [
    "# 랜덤한 정수를(1,2,3) 뽑아서 변수에 저장 ->random 함수\n",
    "# 사용자에게 숫자 입력(1,2,3) 받기\n",
    "# 사용자 입력은 문자열이므로 숫자로 변환\n",
    "# 사용자 입력을 가위, 바위, 보로 출력\n",
    "# Random 정수도 가위,바위,보로 출력\n",
    "# 기준 -> 1:가위 2:바위 3:보\n",
    "import random\n",
    "n = random.randint(1,3)\n",
    "print(n)\n",
    "if n == 1:\n",
    "    print(\"가위\")\n",
    "\n",
    "elif n == 2:\n",
    "    print(\"바위\")\n",
    "\n",
    "else:\n",
    "    print(\"보\")\n",
    "               \n",
    "user = input(\" 1.가위, 2.바위,3.보 중 고르시오 : \")\n",
    "user = int(user) # 주의~~\n",
    "if user == 1:\n",
    "    print(\"가위\")\n",
    "\n",
    "elif user == 2:\n",
    "    print(\"바위\")\n",
    "\n",
    "else:\n",
    "    print(\"보\")\n",
    "\n"
   ]
  },
  {
   "cell_type": "code",
   "execution_count": 4,
   "metadata": {},
   "outputs": [
    {
     "name": "stdin",
     "output_type": "stream",
     "text": [
      "1.가위, 2.바위, 3.보 :  2\n"
     ]
    },
    {
     "name": "stdout",
     "output_type": "stream",
     "text": [
      "[com : 1][you : 2]\n",
      "바위\n",
      "가위\n",
      "이겼습니다\n"
     ]
    }
   ],
   "source": [
    "# 선생님\n",
    "import random\n",
    "com = random.randint(1,3)\n",
    "you=input('1.가위, 2.바위, 3.보 : ')\n",
    "you=int(you)\n",
    "print(\"[com : {0}][you : {1}]\".format(com,you))\n",
    "\n",
    "if you == 1:\n",
    "    print(\"가위\")\n",
    "elif you == 2:\n",
    "    print(\"바위\")\n",
    "else:\n",
    "    print(\"보\")\n",
    "\n",
    "if com == 1:\n",
    "    print(\"가위\")\n",
    "elif com == 2:\n",
    "    print(\"바위\")\n",
    "else:\n",
    "    print(\"보\")\n",
    "    \n",
    "# 비교하기\n",
    "if you == com:\n",
    "    print(\"무승부\")\n",
    "elif (you == 1 and com == 3) or \\\n",
    "     (you == 2 and com == 1) or \\\n",
    "     (you == 3 and com == 2):  # (),\\ 주의!!\n",
    "    print(\"이겼습니다\")\n",
    "\n",
    "\n",
    "else:\n",
    "    print(\"졌어요\")"
   ]
  },
  {
   "cell_type": "code",
   "execution_count": 8,
   "metadata": {},
   "outputs": [
    {
     "name": "stdin",
     "output_type": "stream",
     "text": [
      "1.가위, 2.바위, 3.보 :  2\n"
     ]
    },
    {
     "name": "stdout",
     "output_type": "stream",
     "text": [
      "[com : 2][you : 2]\n",
      "무승부\n"
     ]
    },
    {
     "name": "stdin",
     "output_type": "stream",
     "text": [
      "1.가위, 2.바위, 3.보 :  1\n"
     ]
    },
    {
     "name": "stdout",
     "output_type": "stream",
     "text": [
      "[com : 3][you : 1]\n",
      "이겼습니다\n"
     ]
    }
   ],
   "source": [
    "import random\n",
    "\n",
    "draw = True\n",
    "\n",
    "while draw: # draw가 T이면 다시 while문 반복\n",
    "    com = random.randint(1,3)\n",
    "    you=input('1.가위, 2.바위, 3.보 : ')\n",
    "    you=int(you)\n",
    "    print(\"[com : {0}][you : {1}]\".format(com,you))\n",
    "\n",
    "    if you == com:\n",
    "        print(\"무승부\")\n",
    "    elif (you == 1 and com == 3) or \\\n",
    "         (you == 2 and com == 1) or \\\n",
    "         (you == 3 and com == 2):  # (),\\ 주의!!\n",
    "        print(\"이겼습니다\")\n",
    "        draw = False\n",
    "\n",
    "\n",
    "    else:\n",
    "        print(\"졌어요\")\n",
    "        draw = False"
   ]
  },
  {
   "cell_type": "code",
   "execution_count": 38,
   "metadata": {},
   "outputs": [
    {
     "name": "stdout",
     "output_type": "stream",
     "text": [
      "0 2 7\n"
     ]
    }
   ],
   "source": [
    "# 1. 0 ~ 9 난수 3개 뽑기\n",
    "# 2. 중복 확인 -> 중복되면 다시 1번부터 다시 뽑기\n",
    "# 3. 뽑힌 숫자 출력\n",
    "\n",
    "\n",
    "#num = random.randint(0,9)\n",
    "#num1 = random.randint(0,9)\n",
    "#num2 = random.randint(0,9)\n",
    "\n",
    "#print(num,num1,num2)\n",
    "#if (num == num1) or \\\n",
    "  #(num == num2) or \\\n",
    " #  (num1 == num2):\n",
    "#\n",
    " #   print(num,num1,num2)\n",
    "\n",
    "#else:\n",
    "    #pass    \n",
    "    \n",
    "import random\n",
    "draw = True\n",
    "while draw:\n",
    "    num = random.randint(0,9)\n",
    "    num1 = random.randint(0,9)\n",
    "    num2 = random.randint(0,9)\n",
    "\n",
    "    print(num,num1,num2)\n",
    "    if (num == num1) or \\\n",
    "       (num == num2) or \\\n",
    "       (num1 == num2):\n",
    "    \n",
    "        draw=True\n",
    "        \n",
    "    else:\n",
    "        draw=False\n",
    "        \n",
    "    "
   ]
  },
  {
   "cell_type": "code",
   "execution_count": 35,
   "metadata": {},
   "outputs": [
    {
     "name": "stdout",
     "output_type": "stream",
     "text": [
      "[6][1][5]\n"
     ]
    }
   ],
   "source": [
    "\n",
    "    # 선생님\n",
    "import random\n",
    "\n",
    "n1 = n2 = n3 = 0 # 변수 만들려면 값을 먼저 넣어야 함, 미리 변수 만들기 위해서(임의의 값으로 초기화 시키는 것)\n",
    "again = True # 다시 한다는 명령\n",
    "\n",
    "while again: #다시 하는 구간 잡기\n",
    "    n1=random.randint(0,9) # 변수를 계속 만들 수도 있으므로 블럭 밖에서 변수를 세팅하고 시작하는 것이 좋다\n",
    "    n2=random.randint(0,9)\n",
    "    n3=random.randint(0,9)\n",
    "\n",
    "    if not ((n1 == n2) or \\\n",
    "            (n1 == n3) or \\\n",
    "            (n2 == n3)):\n",
    "             again=False\n",
    "        \n",
    "    print(\"[{0}][{1}][{2}]\".format(n1,n2,n3))\n",
    "    "
   ]
  },
  {
   "cell_type": "code",
   "execution_count": 225,
   "metadata": {},
   "outputs": [
    {
     "name": "stdout",
     "output_type": "stream",
     "text": [
      "[4][7][5]16 5.333333333333333\n",
      "[TOTAL : 16][MEAN: 5.333333333333333]\n"
     ]
    }
   ],
   "source": [
    "# 선생님\n",
    "import random # 모듈 = 파일 담음? -> 파일 안에는 randint같은 함수 쓸 수 있도록 함(library 같은 개념)\n",
    "\n",
    "n= [0, 0, 0] # 변수 세 개 # 변수 만들려면 값을 먼저 넣어야 함, 미리 변수 만들기 위해서(임의의 값으로 초기화 시키는 것)\n",
    "again = True # 다시 한다는 명령\n",
    "\n",
    "while again: #다시 하는 구간 잡기\n",
    "    for idx in range(3):# 0부터 3번째 까지\n",
    "        n[idx] = random.randint(0,9)\n",
    "        \n",
    "    if n[0] != n[1] and \\\n",
    "       n[0] != n[2] and \\\n",
    "       n[1] != n[2]:\n",
    "        again = False\n",
    "        \n",
    "for n2 in n:\n",
    "    print(\"[{0}]\".format(n2), end=\"\") # end=''를 통해 줄바꿈 없애기. 기본은 end='/n'\n",
    "    \n",
    "    # 뽑힌 숫자의 합과 평균을 계산하고 출력\n",
    "s=sum(n)\n",
    "mean=sum(n)/3\n",
    "print(s,mean)\n",
    "#선생님\n",
    "total = 0\n",
    "for n2 in n: # for n2 in [1,2,3] 1,2,3을 n2에 넣음\n",
    "    total += n2\n",
    "cnt = len(n) # len(list) : list에 포함된 요소의 갯수\n",
    "print(\"[TOTAL : {0}][MEAN: {1}]\".format(total, total/cnt))\n"
   ]
  },
  {
   "cell_type": "code",
   "execution_count": 20,
   "metadata": {},
   "outputs": [
    {
     "name": "stdout",
     "output_type": "stream",
     "text": [
      "[7][5][2]"
     ]
    },
    {
     "name": "stdin",
     "output_type": "stream",
     "text": [
      "공격하세요(숫자 숫자 숫자) :  1 1\n"
     ]
    },
    {
     "name": "stdout",
     "output_type": "stream",
     "text": [
      "1 1\n",
      "입력 오류!\n"
     ]
    },
    {
     "name": "stdin",
     "output_type": "stream",
     "text": [
      "공격하세요(숫자 숫자 숫자) :  1 1 1 1\n"
     ]
    },
    {
     "name": "stdout",
     "output_type": "stream",
     "text": [
      "1 1 1 1\n",
      "입력 오류!\n"
     ]
    },
    {
     "name": "stdin",
     "output_type": "stream",
     "text": [
      "공격하세요(숫자 숫자 숫자) :  2 1 2 5  \n"
     ]
    },
    {
     "name": "stdout",
     "output_type": "stream",
     "text": [
      "2 1 2 5  \n",
      "입력 오류!\n"
     ]
    },
    {
     "name": "stdin",
     "output_type": "stream",
     "text": [
      "공격하세요(숫자 숫자 숫자) :  1 3 2 5\n"
     ]
    },
    {
     "name": "stdout",
     "output_type": "stream",
     "text": [
      "1 3 2 5\n",
      "입력 오류!\n"
     ]
    },
    {
     "name": "stdin",
     "output_type": "stream",
     "text": [
      "공격하세요(숫자 숫자 숫자) :  1\n"
     ]
    },
    {
     "name": "stdout",
     "output_type": "stream",
     "text": [
      "1\n",
      "입력 오류!\n"
     ]
    },
    {
     "name": "stdin",
     "output_type": "stream",
     "text": [
      "공격하세요(숫자 숫자 숫자) :  2 5 2\n"
     ]
    },
    {
     "name": "stdout",
     "output_type": "stream",
     "text": [
      "2 5 2\n",
      "[2, 5, 2]\n",
      "ROUND 1 : [S:2][B:1][O:0]\n"
     ]
    },
    {
     "name": "stdin",
     "output_type": "stream",
     "text": [
      "공격하세요(숫자 숫자 숫자) :  3 2 1\n"
     ]
    },
    {
     "name": "stdout",
     "output_type": "stream",
     "text": [
      "3 2 1\n",
      "[3, 2, 1]\n",
      "ROUND 2 : [S:0][B:1][O:2]\n"
     ]
    },
    {
     "name": "stdin",
     "output_type": "stream",
     "text": [
      "공격하세요(숫자 숫자 숫자) :   7 5 2\n"
     ]
    },
    {
     "name": "stdout",
     "output_type": "stream",
     "text": [
      " 7 5 2\n",
      "입력 오류!\n"
     ]
    },
    {
     "name": "stdin",
     "output_type": "stream",
     "text": [
      "공격하세요(숫자 숫자 숫자) :  7 5 2\n"
     ]
    },
    {
     "name": "stdout",
     "output_type": "stream",
     "text": [
      "7 5 2\n",
      "[7, 5, 2]\n",
      "ROUND 3 : [S:3][B:0][O:0]\n",
      "You Win !!!\n"
     ]
    }
   ],
   "source": [
    "# 선생님\n",
    "# 0~9 난수 3개 뽑기\n",
    "# 중복 확인 ->\n",
    "# 안되면 다시 반복\n",
    "import random # 모듈 = 파일 담음? -> 파일 안에는 randint같은 함수 쓸 수 있도록 함(library 같은 개념)\n",
    "\n",
    "n= [0, 0, 0] # 변수 세 개 # 변수 만들려면 값을 먼저 넣어야 함, 미리 변수 만들기 위해서(임의의 값으로 초기화 시키는 것)\n",
    "again = True # 다시 한다는 명령\n",
    "\n",
    "while again: #다시 하는 구간 잡기\n",
    "    for idx in range(3):# 0부터 3번째 까지\n",
    "        n[idx] = random.randint(0,9)\n",
    "\n",
    "    if n[0] != n[1] and \\\n",
    "       n[0] != n[2] and \\\n",
    "       n[1] != n[2]:\n",
    "        again = False\n",
    "\n",
    "for n2 in n:\n",
    "    print(\"[{0}]\".format(n2), end=\"\") # end=''를 통해 줄바꿈 없애기. 기본은 end='/n'\n",
    "\n",
    "####\n",
    "\n",
    "win = False # 승패 결과 저장하는 변수. 처음에는 '패'로 지정!\n",
    "\n",
    "for rnd in range(10):# s,b,o중 맞는거 있는지 10회 반복 -> 10회 내에 3 strike 있는지!\n",
    "\n",
    "    while True:\n",
    "        line = input('공격하세요(숫자 숫자 숫자) : ')\n",
    "        print(line)\n",
    "        numbers = line.split(' ') # '1 2 3' -> ['1', '2', '3'] 스페이스 기반으로 배열 만듬\n",
    "        if len(numbers) == 3: # 숫자 세 개 제대로 넣었는가에 대한 작업\n",
    "            break\n",
    "        else:\n",
    "            print(\"입력 오류!\") # while문 반복하게 됨(다시 입력하도록)\n",
    "        \n",
    "    \n",
    "    # 아래 반복문은 ['1','2','3'] -> [1, 2, 3]으로 변경\n",
    "    for idx in range( len(numbers) ): # 범위 가져오라\n",
    "        numbers[idx] = int(numbers[idx])\n",
    "    print(numbers)\n",
    "\n",
    "    ##### 홈런 계산\n",
    "    s = b = o = 0\n",
    "    for i in range( len(numbers) ): # 입력 숫자 반복(순회)\n",
    "        for j in range( len(n) ):\n",
    "        #for j in range( len(n) ) # 뽑힌 숫자 순회 \n",
    "            if (numbers[i] == n[j]) and (i == j): # 숫자가 같고  #위치가 같다면\n",
    "               # pass #strike\n",
    "                s += 1\n",
    "            elif (numbers[i] == n[j]) and (i != j): # 숫자만 같다면 \n",
    "                # pass #ball\n",
    "                b += 1\n",
    "    o = 3 - (s + b)            \n",
    "    print(\"ROUND {0} : [S:{1}][B:{2}][O:{3}]\".format(rnd+1, s, b, o))\n",
    "    \n",
    "    if s == 3: # 겜 끝\n",
    "        win = True\n",
    "        break # 반복문을 종료\n",
    "        \n",
    "    \n",
    "if win:\n",
    "    print('You Win !!!')\n",
    "else:\n",
    "    print('You Failed !!!!')"
   ]
  },
  {
   "cell_type": "code",
   "execution_count": null,
   "metadata": {},
   "outputs": [],
   "source": []
  },
  {
   "cell_type": "code",
   "execution_count": 9,
   "metadata": {},
   "outputs": [
    {
     "name": "stdin",
     "output_type": "stream",
     "text": [
      "숫자를 입력하세요 :  3\n"
     ]
    },
    {
     "name": "stdout",
     "output_type": "stream",
     "text": [
      "3\n",
      "3\n"
     ]
    }
   ],
   "source": [
    "#### [ 계산기 만들기 ]\n",
    "# 숫자 입력\n",
    "# 1부터 입력한 숫자까지의 합 계산\n",
    "# 10일 경우, ( 1 + 2 + 3 + 4 + .. + 10)\n",
    "#출력\n",
    "\n",
    "\n",
    "you = input(\"숫자를 입력하세요 : \")\n",
    "you = int(you)\n",
    "print(you)\n",
    "\n",
    "start = 1\n",
    "\n",
    "again = True\n",
    "\n",
    "while again:\n",
    "\n",
    "    if start < you:\n",
    "            start += start + 1\n",
    "            \n",
    "    elif start == you:\n",
    "         break\n",
    "    \n",
    "print(start)\n",
    "                \n"
   ]
  },
  {
   "cell_type": "code",
   "execution_count": 2,
   "metadata": {},
   "outputs": [
    {
     "name": "stdin",
     "output_type": "stream",
     "text": [
      "숫자를 입력하세요 :  \n"
     ]
    },
    {
     "name": "stdout",
     "output_type": "stream",
     "text": [
      "숫자 형식이 아닙니다.\n"
     ]
    },
    {
     "ename": "KeyboardInterrupt",
     "evalue": "Interrupted by user",
     "output_type": "error",
     "traceback": [
      "\u001b[1;31m---------------------------------------------------------------------------\u001b[0m",
      "\u001b[1;31mKeyboardInterrupt\u001b[0m                         Traceback (most recent call last)",
      "\u001b[1;32m<ipython-input-2-fa9617ec6f1b>\u001b[0m in \u001b[0;36m<module>\u001b[1;34m\u001b[0m\n\u001b[0;32m      2\u001b[0m \u001b[1;33m\u001b[0m\u001b[0m\n\u001b[0;32m      3\u001b[0m \u001b[1;32mwhile\u001b[0m \u001b[1;32mTrue\u001b[0m\u001b[1;33m:\u001b[0m\u001b[1;33m\u001b[0m\u001b[1;33m\u001b[0m\u001b[0m\n\u001b[1;32m----> 4\u001b[1;33m     \u001b[0mnumber\u001b[0m \u001b[1;33m=\u001b[0m \u001b[0minput\u001b[0m\u001b[1;33m(\u001b[0m\u001b[1;34m\"숫자를 입력하세요 : \"\u001b[0m\u001b[1;33m)\u001b[0m\u001b[1;33m\u001b[0m\u001b[1;33m\u001b[0m\u001b[0m\n\u001b[0m\u001b[0;32m      5\u001b[0m     \u001b[1;32mif\u001b[0m \u001b[0mnumber\u001b[0m\u001b[1;33m.\u001b[0m\u001b[0misdigit\u001b[0m\u001b[1;33m(\u001b[0m\u001b[1;33m)\u001b[0m\u001b[1;33m:\u001b[0m \u001b[1;31m#number가 digit이면(숫자면)\u001b[0m\u001b[1;33m\u001b[0m\u001b[1;33m\u001b[0m\u001b[0m\n\u001b[0;32m      6\u001b[0m         \u001b[1;32mbreak\u001b[0m \u001b[1;31m# 빠져나오기\u001b[0m\u001b[1;33m\u001b[0m\u001b[1;33m\u001b[0m\u001b[0m\n",
      "\u001b[1;32mc:\\programdata\\miniconda3\\envs\\hoseo\\lib\\site-packages\\ipykernel\\kernelbase.py\u001b[0m in \u001b[0;36mraw_input\u001b[1;34m(self, prompt)\u001b[0m\n\u001b[0;32m    861\u001b[0m             \u001b[0mself\u001b[0m\u001b[1;33m.\u001b[0m\u001b[0m_parent_ident\u001b[0m\u001b[1;33m,\u001b[0m\u001b[1;33m\u001b[0m\u001b[1;33m\u001b[0m\u001b[0m\n\u001b[0;32m    862\u001b[0m             \u001b[0mself\u001b[0m\u001b[1;33m.\u001b[0m\u001b[0m_parent_header\u001b[0m\u001b[1;33m,\u001b[0m\u001b[1;33m\u001b[0m\u001b[1;33m\u001b[0m\u001b[0m\n\u001b[1;32m--> 863\u001b[1;33m             \u001b[0mpassword\u001b[0m\u001b[1;33m=\u001b[0m\u001b[1;32mFalse\u001b[0m\u001b[1;33m,\u001b[0m\u001b[1;33m\u001b[0m\u001b[1;33m\u001b[0m\u001b[0m\n\u001b[0m\u001b[0;32m    864\u001b[0m         )\n\u001b[0;32m    865\u001b[0m \u001b[1;33m\u001b[0m\u001b[0m\n",
      "\u001b[1;32mc:\\programdata\\miniconda3\\envs\\hoseo\\lib\\site-packages\\ipykernel\\kernelbase.py\u001b[0m in \u001b[0;36m_input_request\u001b[1;34m(self, prompt, ident, parent, password)\u001b[0m\n\u001b[0;32m    902\u001b[0m             \u001b[1;32mexcept\u001b[0m \u001b[0mKeyboardInterrupt\u001b[0m\u001b[1;33m:\u001b[0m\u001b[1;33m\u001b[0m\u001b[1;33m\u001b[0m\u001b[0m\n\u001b[0;32m    903\u001b[0m                 \u001b[1;31m# re-raise KeyboardInterrupt, to truncate traceback\u001b[0m\u001b[1;33m\u001b[0m\u001b[1;33m\u001b[0m\u001b[1;33m\u001b[0m\u001b[0m\n\u001b[1;32m--> 904\u001b[1;33m                 \u001b[1;32mraise\u001b[0m \u001b[0mKeyboardInterrupt\u001b[0m\u001b[1;33m(\u001b[0m\u001b[1;34m\"Interrupted by user\"\u001b[0m\u001b[1;33m)\u001b[0m \u001b[1;32mfrom\u001b[0m \u001b[1;32mNone\u001b[0m\u001b[1;33m\u001b[0m\u001b[1;33m\u001b[0m\u001b[0m\n\u001b[0m\u001b[0;32m    905\u001b[0m             \u001b[1;32mexcept\u001b[0m \u001b[0mException\u001b[0m \u001b[1;32mas\u001b[0m \u001b[0me\u001b[0m\u001b[1;33m:\u001b[0m\u001b[1;33m\u001b[0m\u001b[1;33m\u001b[0m\u001b[0m\n\u001b[0;32m    906\u001b[0m                 \u001b[0mself\u001b[0m\u001b[1;33m.\u001b[0m\u001b[0mlog\u001b[0m\u001b[1;33m.\u001b[0m\u001b[0mwarning\u001b[0m\u001b[1;33m(\u001b[0m\u001b[1;34m\"Invalid Message:\"\u001b[0m\u001b[1;33m,\u001b[0m \u001b[0mexc_info\u001b[0m\u001b[1;33m=\u001b[0m\u001b[1;32mTrue\u001b[0m\u001b[1;33m)\u001b[0m\u001b[1;33m\u001b[0m\u001b[1;33m\u001b[0m\u001b[0m\n",
      "\u001b[1;31mKeyboardInterrupt\u001b[0m: Interrupted by user"
     ]
    }
   ],
   "source": [
    "# 선생님\n",
    "\n",
    "while True:\n",
    "    number = input(\"숫자를 입력하세요 : \")\n",
    "    if number.isdigit(): #number가 digit이면(숫자면)\n",
    "        break # 빠져나오기\n",
    "    else:\n",
    "        print(\"숫자 형식이 아닙니다.\")\n",
    "\n",
    "number = int(number)\n",
    "\n",
    "sum = 0\n",
    "for idx in range(1, number + 1): # 1부터 10까지. 10만 쓰면 0~9임\n",
    "    #print(idx)\n",
    "    sum += idx\n",
    "    \n",
    "print(\"SUM OF {0} ~ {1} : {2}\".format(1, number, sum))"
   ]
  },
  {
   "cell_type": "code",
   "execution_count": null,
   "metadata": {},
   "outputs": [],
   "source": [
    "print(\"10\".isdigit())\n",
    "print(\"십\".isdigit())"
   ]
  },
  {
   "cell_type": "code",
   "execution_count": null,
   "metadata": {},
   "outputs": [],
   "source": []
  },
  {
   "cell_type": "code",
   "execution_count": 42,
   "metadata": {},
   "outputs": [
    {
     "name": "stdout",
     "output_type": "stream",
     "text": [
      "당신의 로또 번호는 [23],[15],[36],[24],[12],[10] 입니다~ \n"
     ]
    }
   ],
   "source": [
    "#난수 6개 출력\n",
    "#중복 X\n",
    "\n",
    "import random\n",
    "output=0\n",
    "for output in range(6):\n",
    "    num = random.randint(1,45)\n",
    "    num1 = random.randint(1,45)\n",
    "    num2 = random.randint(1,45)\n",
    "    num3 = random.randint(1,45)\n",
    "    num4 = random.randint(1,45)\n",
    "    num5 = random.randint(1,45)\n",
    "    \n",
    "print(\"당신의 로또 번호는 [{0}],[{1}],[{2}],[{3}],[{4}],[{5}] 입니다~ \".format(num, num1, num2, num3, num4, num5))\n",
    "\n",
    "\n",
    "        "
   ]
  },
  {
   "cell_type": "code",
   "execution_count": null,
   "metadata": {},
   "outputs": [],
   "source": []
  },
  {
   "cell_type": "code",
   "execution_count": 64,
   "metadata": {},
   "outputs": [
    {
     "data": {
      "text/plain": [
       "[1, 4, 6, 7, 9, 33]"
      ]
     },
     "execution_count": 64,
     "metadata": {},
     "output_type": "execute_result"
    }
   ],
   "source": [
    "# 선생님\n",
    "import random\n",
    "\n",
    "rng=range(1, 46) #리스트와는 다른 추출기 개념이므로 리스트 붙임\n",
    "lst=list(rng)\n",
    "numbers = random.sample(lst, 6) # 비복원 랜덤샘플링\n",
    "numbers. sort()\n",
    "numbers"
   ]
  }
 ],
 "metadata": {
  "kernelspec": {
   "display_name": "Python 3",
   "language": "python",
   "name": "python3"
  },
  "language_info": {
   "codemirror_mode": {
    "name": "ipython",
    "version": 3
   },
   "file_extension": ".py",
   "mimetype": "text/x-python",
   "name": "python",
   "nbconvert_exporter": "python",
   "pygments_lexer": "ipython3",
   "version": "3.6.10"
  }
 },
 "nbformat": 4,
 "nbformat_minor": 4
}
