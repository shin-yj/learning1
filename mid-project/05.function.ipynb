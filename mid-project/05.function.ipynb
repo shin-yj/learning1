{
 "cells": [
  {
   "cell_type": "code",
   "execution_count": 8,
   "metadata": {},
   "outputs": [],
   "source": [
    "# 함수 정의(만들기)\n",
    "def show_greetings(): # header\n",
    "    print('this is function')\n",
    "    print('hellom there !!!!!')\n",
    "    print('안녕하세요?')"
   ]
  },
  {
   "cell_type": "code",
   "execution_count": 9,
   "metadata": {},
   "outputs": [
    {
     "name": "stdout",
     "output_type": "stream",
     "text": [
      "this is function\n",
      "hellom there !!!!!\n",
      "안녕하세요?\n"
     ]
    }
   ],
   "source": [
    "show_greetings() # 함수 호출 : 함수의 코드를 실행"
   ]
  },
  {
   "cell_type": "code",
   "execution_count": 10,
   "metadata": {},
   "outputs": [
    {
     "name": "stdout",
     "output_type": "stream",
     "text": [
      "this is function\n",
      "hellom there !!!!!\n",
      "안녕하세요?\n"
     ]
    }
   ],
   "source": [
    "show_greetings() # 똑같은 코드 반복 실행"
   ]
  },
  {
   "cell_type": "code",
   "execution_count": 17,
   "metadata": {},
   "outputs": [],
   "source": [
    "def f1():\n",
    "    data1 = 'data of f1' # 지역 변수: f1 함수 내부에서만 사용 가능\n",
    "    print('data1 in f1 {0}'.format(data1))\n",
    "    print('f1 is called')"
   ]
  },
  {
   "cell_type": "code",
   "execution_count": 18,
   "metadata": {},
   "outputs": [
    {
     "name": "stdout",
     "output_type": "stream",
     "text": [
      "data1 in f1 data of f1\n",
      "f1 is called\n",
      "test\n"
     ]
    }
   ],
   "source": [
    "data1 = 'test'\n",
    "f1() # 함수 data1과 그냥 변수 data1은 이름은 같으나 다르다. print(data1)할 시 그냥 변수 data1으로 출력된다.\n",
    "print(data1) # 함수 안에 있는 변수는 함수 안에서만 사용할 수 있다(지역변수). 함수 밖에서는 출력할 수 없음(에러)"
   ]
  },
  {
   "cell_type": "code",
   "execution_count": 4,
   "metadata": {},
   "outputs": [
    {
     "name": "stdout",
     "output_type": "stream",
     "text": [
      "global data\n",
      "9\n",
      "90\n"
     ]
    }
   ],
   "source": [
    "import random\n",
    "gn = 'global data'\n",
    "\n",
    "def caller():\n",
    "    n = random.randint(1, 45) # caller()에서만 쓸 수 있는 변수,\n",
    "    callee(n, n*10) # n을 호출한 곳으로 전달, 전달인자 # callee(n)에게 넘겨주겠다! 사용 가능 # 주는 것 여러번 줄 수 있음 # 공유하지 못해서 주고 받음\n",
    "\n",
    "def callee(pn, pn2): # pn : 호출과 함께 전달된 데이터를 받는 변수 # n 말고 pn으로 바꿔도 됨\n",
    "    print(gn)\n",
    "    # print(n) # caller()에서 callee(n) 안썼을 경우 caller()에서만 쓰일 수 있으므로 에러 나타남\n",
    "    print(pn) # callee(n)에 해당\n",
    "    print(pn2) # callee(n*10)에 해당\n",
    "\n",
    "caller()\n"
   ]
  },
  {
   "cell_type": "code",
   "execution_count": 34,
   "metadata": {},
   "outputs": [
    {
     "name": "stdout",
     "output_type": "stream",
     "text": [
      "30\n"
     ]
    }
   ],
   "source": [
    "def my_sum(n1, n2):\n",
    "    result = n1 + n2\n",
    "    return result # 함수를 호출한 곳(result2)으로 데이터 전달(return = n1 + n2 변수(함수식) 사용하기 위해)\n",
    "\n",
    "result2 = my_sum(10, 20) #(n1, n2)로\n",
    "print(result2) # 에러 발생!"
   ]
  },
  {
   "cell_type": "code",
   "execution_count": 38,
   "metadata": {},
   "outputs": [
    {
     "name": "stdout",
     "output_type": "stream",
     "text": [
      "(30, -10, 200, 0.5)\n",
      "(30, -10, 200, 0.5)\n",
      "200\n"
     ]
    }
   ],
   "source": [
    "def my_describe(n1, n2):\n",
    "    result1 = n1 + n2\n",
    "    result2 = n1 - n2\n",
    "    result3 = n1 * n2\n",
    "    result4 = n1 / n2\n",
    "    # return [result1, result2, result3, result4] # 리스트로 호출 \n",
    "    # return (result1, result2, result3, result4) # 튜플로 호출\n",
    "    return result1, result2, result3, result4 # , 여러개일 경우 자동으로 튜플로 인식\n",
    "\n",
    "result2 = my_describe(10, 20)\n",
    "print(result2)\n",
    "# x, y, z =(1,2,3)\n",
    "a, b, c, d = my_describe(10, 20) \n",
    "print(result2)\n",
    "_, _, r3, _ = my_describe(10, 20) # 곱하기만\n",
    "print(r3)"
   ]
  },
  {
   "cell_type": "code",
   "execution_count": 47,
   "metadata": {},
   "outputs": [],
   "source": [
    "def show_info(name, email, age):\n",
    "    print(\"[NAME : {0}][EMAIL : {1}][AGE : {2}]\".format(name, email, age))"
   ]
  },
  {
   "cell_type": "code",
   "execution_count": 51,
   "metadata": {},
   "outputs": [
    {
     "name": "stdout",
     "output_type": "stream",
     "text": [
      "[NAME : John Doe][EMAIL : johndoe@example.com][AGE : 30]\n",
      "[NAME : 30][EMAIL : johndoe@example.com][AGE : John Doe]\n",
      "[NAME : John Doe][EMAIL : johndoe@example.com][AGE : 30]\n",
      "[NAME : John Doe][EMAIL : johndoe@exaple][AGE : 30]\n"
     ]
    }
   ],
   "source": [
    " # 순서 기반(인덱스 기반) 전달 인자. 순서-> 이름순\n",
    "show_info('John Doe', 'johndoe@example.com', 30)\n",
    "show_info(30, 'johndoe@example.com','John Doe') # 순서가 안맞으면 이상한 결과\n",
    "# 이름 기반 전달 인자\n",
    "show_info(email='johndoe@example.com',\n",
    "          age=30,\n",
    "          name='John Doe') # 목록이라 \\ 안해두 댐\n",
    "# 순서, 이름 기반 전달 인자\n",
    "show_info('John Doe', # 순서에 맞는 것\n",
    "          age=30, email='johndoe@exaple') # 순서에 맞지 않는 것"
   ]
  },
  {
   "cell_type": "code",
   "execution_count": 62,
   "metadata": {},
   "outputs": [],
   "source": [
    "# 전달인자의 기본값 지정(호출할 때 전달하지 않으면 기본값 사용)\n",
    "def show_info2(name, age, email='이메일 없음'): # 'default' : email 안 넣어도 된다! (default value)\n",
    "    print(\"[NAME : {0}][EMAIL : {1}][AGE : {2}]\".format(name, email, age))"
   ]
  },
  {
   "cell_type": "code",
   "execution_count": 68,
   "metadata": {},
   "outputs": [
    {
     "name": "stdout",
     "output_type": "stream",
     "text": [
      "[NAME : Jane Doe][EMAIL : 이메일 없음][AGE : 27]\n",
      "[NAME : 1][EMAIL : 이메일 없음][AGE : 2]\n",
      "[NAME : Jane Doe][EMAIL : John@example.com][AGE : 27]\n"
     ]
    }
   ],
   "source": [
    "show_info2(\"Jane Doe\", 27)\n",
    "show_info2(1,2)\n",
    "show_info2('Jane Doe',27,'John@example.com')"
   ]
  },
  {
   "cell_type": "code",
   "execution_count": null,
   "metadata": {},
   "outputs": [],
   "source": []
  },
  {
   "cell_type": "code",
   "execution_count": 79,
   "metadata": {},
   "outputs": [],
   "source": [
    "def my_sum2(*args): # *은 가변인자, 튜플로 되어있고 가변인자에 의해 1개가 아닌 2,3,..n개 가능하다. *이 없다면 오류남 # 합치는 것!\n",
    "    print(args)\n",
    "    result = 0 # 변수 선언\n",
    "    for i in args:\n",
    "        result += i\n",
    "    return result # 튜플로 mysum이 받음 합체\n"
   ]
  },
  {
   "cell_type": "code",
   "execution_count": 80,
   "metadata": {},
   "outputs": [
    {
     "name": "stdout",
     "output_type": "stream",
     "text": [
      "(1, 2)\n",
      "(1, 2, 3)\n",
      "(1, 2, 3, 4)\n",
      "3 6 10\n"
     ]
    }
   ],
   "source": [
    "r1 = my_sum2(1, 2)\n",
    "r2 = my_sum2(1, 2, 3)\n",
    "r3 = my_sum2(1, 2, 3, 4)\n",
    "print(r1,r2,r3)"
   ]
  },
  {
   "cell_type": "code",
   "execution_count": 88,
   "metadata": {},
   "outputs": [],
   "source": [
    "def show_info3(**kwargs): # ** 딕셔너리로 가는 가변인자, key와 value는 아직 정하지 않음. 뭐가 들어올 지 모르겠다! # 풀어져 있는 dictionary를 합침\n",
    "    # print(kwargs)\n",
    "    for k, v in kwargs.items(): # key와 value가 반복\n",
    "        print(\"[{0}:{1}]\".format(k,v), end='') # end=''는 열로 가지 않고 행으로 가도록 함"
   ]
  },
  {
   "cell_type": "code",
   "execution_count": 89,
   "metadata": {},
   "outputs": [
    {
     "name": "stdout",
     "output_type": "stream",
     "text": [
      "[name:John Doe][email:johndoe@example.com][age:30]"
     ]
    }
   ],
   "source": [
    "show_info3(name='John Doe',\n",
    "           email = 'johndoe@example.com',\n",
    "           age = 30) # 들어갈 것 정함"
   ]
  },
  {
   "cell_type": "code",
   "execution_count": 90,
   "metadata": {},
   "outputs": [
    {
     "name": "stdout",
     "output_type": "stream",
     "text": [
      "Help on built-in function print in module builtins:\n",
      "\n",
      "print(...)\n",
      "    print(value, ..., sep=' ', end='\\n', file=sys.stdout, flush=False)\n",
      "    \n",
      "    Prints the values to a stream, or to sys.stdout by default.\n",
      "    Optional keyword arguments:\n",
      "    file:  a file-like object (stream); defaults to the current sys.stdout.\n",
      "    sep:   string inserted between values, default a space.\n",
      "    end:   string appended after the last value, default a newline.\n",
      "    flush: whether to forcibly flush the stream.\n",
      "\n"
     ]
    }
   ],
   "source": [
    "help(print) # print의 도움말"
   ]
  },
  {
   "cell_type": "code",
   "execution_count": 91,
   "metadata": {},
   "outputs": [],
   "source": [
    "def my_sum3(n1, n2):\n",
    "    return n1+n2\n",
    "\n",
    "def show_info4(name, email, age):\n",
    "    print(\"[NAME : {0}][EMAIL : {1}][AGE : {2}]\".format(name, email, age))"
   ]
  },
  {
   "cell_type": "code",
   "execution_count": 92,
   "metadata": {},
   "outputs": [
    {
     "name": "stdout",
     "output_type": "stream",
     "text": [
      "30\n",
      "[NAME : xxx][EMAIL : xxx@example.com][AGE : 30]\n"
     ]
    }
   ],
   "source": [
    "ns = [10, 20]\n",
    "result = my_sum3(*ns) # 호출할 때 *은 list를 [1, 2, 3] -> 1, 2, 3으로 해체함! 위치에 따라 다름!! 함수 선언인 def 뒤에 (*)인 경우는 합침\n",
    "print(result)\n",
    "\n",
    "info = { \"name\" : \"xxx\", \"email\": \"xxx@example.com\", \"age\":30} \n",
    "show_info4(**info) # dictionary 해체해서 name의 xxx는 name 전달인자에(show_inf04의 name으로), email key의 xxx@~~ (value)는 show_info email(email 전달인자)로 해체해서 넣음 \n",
    "# **은 dictionary matching"
   ]
  },
  {
   "cell_type": "code",
   "execution_count": null,
   "metadata": {},
   "outputs": [],
   "source": []
  },
  {
   "cell_type": "code",
   "execution_count": 95,
   "metadata": {},
   "outputs": [],
   "source": [
    "def fx(msg):\n",
    "    print(msg)\n",
    "    \n",
    "def fx3(msg, f):\n",
    "    f(msg)   "
   ]
  },
  {
   "cell_type": "code",
   "execution_count": 101,
   "metadata": {},
   "outputs": [
    {
     "name": "stdout",
     "output_type": "stream",
     "text": [
      "hello\n",
      "hello2\n",
      "hello3\n",
      "hello3\n"
     ]
    }
   ],
   "source": [
    "fx('hello')\n",
    "fx2 = fx # 함수를 변수에 저장할 수 있음(함수도 데이터)\n",
    "fx2('hello2')\n",
    "fx3('hello3', fx) # 함수를 전달인자로 전달-> 사용 가능 (함수도 데이터) \n",
    "fx3('hello3', lambda m: print(m))"
   ]
  },
  {
   "cell_type": "code",
   "execution_count": 100,
   "metadata": {},
   "outputs": [
    {
     "name": "stdout",
     "output_type": "stream",
     "text": [
      "30\n"
     ]
    }
   ],
   "source": [
    "my_sum5 = lambda x, y: x + y # lambda는 함수 따로 만들지 않고 바로 하고 싶을 때 익명 함수(이름없는 함수)를 만들어 변수에 저장 / x,y는 전달 인자 x+y는 실행 내용\n",
    "r = my_sum5(10, 20)\n",
    "print(r)"
   ]
  },
  {
   "cell_type": "code",
   "execution_count": 165,
   "metadata": {},
   "outputs": [
    {
     "name": "stdout",
     "output_type": "stream",
     "text": [
      "수치 연산 오류 발생 :  division by zero\n",
      "항상 실행\n"
     ]
    }
   ],
   "source": [
    "## 예외 처리\n",
    "# print(10 / 0)\n",
    "# open('not-exist.txt', 'r') # r이라는 파일 음따!\n",
    "\n",
    "import random\n",
    "\n",
    "try: # 예외 발생 의심 영역(여기서 발생한 오류만 처리 가능)\n",
    "    rnd = random.randint(1,3) # 결과값 1 or 2 or 3\n",
    "    if rnd == 1:\n",
    "        print(10 / 0)\n",
    "    if rnd ==2:\n",
    "        open('not-exist.txt', 'r')\n",
    "    # print('test')\n",
    "except ZeroDivisionError as e1: # 오류가 발생했을 때 실행되는 영역 # try, except는 무조건 있어야 함\n",
    "    print('수치 연산 오류 발생 : ', e1)\n",
    "except FileNotFoundError as e2: # 오류가 발생했을 때 실행되는 영역 # try, except는 무조건 있어야 함\n",
    "    print('파일 찾기 오류 발생 : ', e2)\n",
    "else:   # 오류가 발생하지 않았을 때 실행되는 영역(선택적, 있어도 없어도 상관 x)\n",
    "    print(\"정상 실행\")\n",
    "\n",
    "finally:# 오류 여부와 상관없이 실행되는 영역 ( \" )\n",
    "    print('항상 실행')\n",
    "    "
   ]
  },
  {
   "cell_type": "code",
   "execution_count": null,
   "metadata": {},
   "outputs": [],
   "source": []
  },
  {
   "cell_type": "code",
   "execution_count": null,
   "metadata": {},
   "outputs": [],
   "source": [
    "# 중복되지 않는 1 ~ 45 사이의 6개의 난수를 뽑는 함수 만들기\n",
    "# 함수이름 : select_basic_numbers\n",
    "# 전달인자 : X \n",
    "# 반환값(결과값) : 뽑힌 6개의 숫자\n",
    "import random\n",
    "\n",
    "draw = True\n",
    "while draw:\n",
    "    \n",
    "    def select_basic_numbers():\n",
    "        num1 = random.randint(1,45)\n",
    "        num2 = random.randint(1,45)\n",
    "        num3 = random.randint(1,45)\n",
    "        print(num1,num2,num3)\n",
    "        \n",
    "        draw = True\n",
    "        \n",
    "else:\n",
    "    draw=False\n",
    "\n"
   ]
  },
  {
   "cell_type": "code",
   "execution_count": 6,
   "metadata": {},
   "outputs": [],
   "source": [
    "# 선생님\n",
    "import random\n",
    "def select_basic_numbers(): # 전달인자 없으므로 빈칸\n",
    "    idx = 0\n",
    "    numbers = []\n",
    "    while idx < 6:\n",
    "        number = random.randint(1, 45) # 새로 뽑은 숫자\n",
    "        dup = False\n",
    "        if len(numbers) > 0:\n",
    "            for n in numbers: # 이미 뽑힌 숫자를 순회\n",
    "                if n == number: # 중복인 경우\n",
    "                    dup = True\n",
    "                    break\n",
    "        if not dup:\n",
    "            numbers.append(number)\n",
    "            idx += 1\n",
    "    return numbers"
   ]
  },
  {
   "cell_type": "code",
   "execution_count": 10,
   "metadata": {},
   "outputs": [
    {
     "data": {
      "text/plain": [
       "[7, 25, 23, 26, 21, 22]"
      ]
     },
     "execution_count": 10,
     "metadata": {},
     "output_type": "execute_result"
    }
   ],
   "source": [
    "select_basic_numbers()"
   ]
  },
  {
   "cell_type": "code",
   "execution_count": 39,
   "metadata": {},
   "outputs": [
    {
     "name": "stdout",
     "output_type": "stream",
     "text": [
      "(1, 2, 3)\n",
      "2.0\n"
     ]
    }
   ],
   "source": [
    "# 평균 계산 함수 만들기\n",
    "# 이름 : calc_mean\n",
    "# 전달인자 : 리스트 ( [] )\n",
    "# 반환값 : 실수 단일값(평균값)\n",
    "\n",
    "\n",
    "def calc_mean(*n):\n",
    "    print(n)\n",
    "    n2 = 0\n",
    "    for i in n:\n",
    "        n2 += i\n",
    "    \n",
    "    return n2 / len(n)\n",
    "\n",
    "r1 = calc_mean(1,2,3)\n",
    "print(r1)\n"
   ]
  },
  {
   "cell_type": "code",
   "execution_count": 51,
   "metadata": {},
   "outputs": [],
   "source": [
    "# 선생님\n",
    "def calc_mean(*numbers): # 낱개를 list로 호출(낱개를 묶음), * 없으면 튜플 받음\n",
    "    mean = sum(numbers) / len(numbers)\n",
    "    return mean\n",
    "def calc_mean2(numbers): # 낱개를 list로 호출(낱개를 묶음), * 없으면 튜플 받음\n",
    "    mean = sum(numbers) / len(numbers)\n",
    "    return mean"
   ]
  },
  {
   "cell_type": "code",
   "execution_count": 53,
   "metadata": {},
   "outputs": [
    {
     "name": "stdout",
     "output_type": "stream",
     "text": [
      "3.0\n",
      "3.0\n",
      "3.0\n"
     ]
    }
   ],
   "source": [
    "#calc_mean([1,2,3,4,5]) # calc_mean(*numbers)는 낱개를 받고 합치는 거기 때문에 [,,]방식이 아니라 1,2,3 으로 넣어야 함 -> mean(*[1,2,3,4])면 해체됨 이 경우는 가능.\n",
    "a=calc_mean(1,2,3,4,5)\n",
    "print(a)\n",
    "b=calc_mean(*[1,2,3,4,5])\n",
    "print(b)\n",
    "c2 = calc_mean2([1,2,3,4,5])\n",
    "print(c2)"
   ]
  },
  {
   "cell_type": "code",
   "execution_count": 57,
   "metadata": {},
   "outputs": [],
   "source": [
    "# 평균 범위 검사 함수 만들기\n",
    "# 이름 check_mean\n",
    "# 전달인자 : 숫자 3개(범위시작값, 범위끝값, 평균)\n",
    "# 반환값 : boolean (참 / 거짓)\n",
    "\n",
    "def check_mean(f, t, v):\n",
    "     #if f <= v <= t:\n",
    "    #   return True\n",
    "    #else:\n",
    "    #   return False \n",
    "    return f <= v <= t\n"
   ]
  },
  {
   "cell_type": "code",
   "execution_count": 170,
   "metadata": {},
   "outputs": [
    {
     "name": "stdout",
     "output_type": "stream",
     "text": [
      "True\n",
      "False\n"
     ]
    }
   ],
   "source": [
    "print(check_mean(20, 26, 23))\n",
    "print(cheak_mean(20, 26, 37))\n"
   ]
  },
  {
   "cell_type": "code",
   "execution_count": 263,
   "metadata": {},
   "outputs": [
    {
     "name": "stdout",
     "output_type": "stream",
     "text": [
      "\n"
     ]
    }
   ],
   "source": [
    "def show_numbers(numbers):\n",
    "    \"\"\"\n",
    "     숫자 리스트의 각 숫자를 출력하는 함수 만들기\n",
    "     이름 : show_numbers\n",
    "     전달인자 : 숫자 리스트\n",
    "     반환값 : 없음\n",
    "    \"\"\"\n",
    "    print(\"SELECTED NUMBERS : \", end=\"\")\n",
    "    for n in numbers:\n",
    "        print(\"[{0}]\".format(n), end=\"\")\n",
    "print()"
   ]
  },
  {
   "cell_type": "code",
   "execution_count": 264,
   "metadata": {},
   "outputs": [
    {
     "name": "stdout",
     "output_type": "stream",
     "text": [
      "[MEAN : 8.166666666666666]\n",
      "[MEAN : 22.166666666666668]\n",
      "SELECTED NUMBERS : [10][20][37][26][18][22]"
     ]
    }
   ],
   "source": [
    "# 원래 로또 코드를 함수코드로!\n",
    "\n",
    "while True:\n",
    "    # 기본 숫자 뽑기\n",
    "    numbers = select_basic_numbers()\n",
    "    # 평균 계산\n",
    "    mean = calc_mean(*numbers)\n",
    "    print(\"[MEAN : {0}]\".format(mean))\n",
    "    # 평균 검사\n",
    "    if check_mean(20, 26, mean):\n",
    "        break\n",
    "\n",
    "show_numbers(numbers)"
   ]
  },
  {
   "cell_type": "code",
   "execution_count": 265,
   "metadata": {},
   "outputs": [
    {
     "name": "stdout",
     "output_type": "stream",
     "text": [
      "Help on function show_numbers in module __main__:\n",
      "\n",
      "show_numbers(numbers)\n",
      "    숫자 리스트의 각 숫자를 출력하는 함수 만들기\n",
      "    이름 : show_numbers\n",
      "    전달인자 : 숫자 리스트\n",
      "    반환값 : 없음\n",
      "\n"
     ]
    }
   ],
   "source": [
    "help(show_numbers)"
   ]
  }
 ],
 "metadata": {
  "kernelspec": {
   "display_name": "Python 3",
   "language": "python",
   "name": "python3"
  },
  "language_info": {
   "codemirror_mode": {
    "name": "ipython",
    "version": 3
   },
   "file_extension": ".py",
   "mimetype": "text/x-python",
   "name": "python",
   "nbconvert_exporter": "python",
   "pygments_lexer": "ipython3",
   "version": "3.6.10"
  }
 },
 "nbformat": 4,
 "nbformat_minor": 4
}
