{
 "cells": [
  {
   "cell_type": "code",
   "execution_count": 1,
   "metadata": {},
   "outputs": [],
   "source": [
    "import my_util"
   ]
  },
  {
   "cell_type": "code",
   "execution_count": 2,
   "metadata": {},
   "outputs": [
    {
     "name": "stdout",
     "output_type": "stream",
     "text": [
      "Hello, John Doe\n"
     ]
    }
   ],
   "source": [
    "message = my_util.get_greetings(\"John Doe\") # . 찍어서 함\n",
    "print(message)"
   ]
  },
  {
   "cell_type": "code",
   "execution_count": 3,
   "metadata": {},
   "outputs": [],
   "source": [
    "import my_util as mu"
   ]
  },
  {
   "cell_type": "code",
   "execution_count": 4,
   "metadata": {},
   "outputs": [
    {
     "data": {
      "text/plain": [
       "'Hello, Jane Doe'"
      ]
     },
     "execution_count": 4,
     "metadata": {},
     "output_type": "execute_result"
    }
   ],
   "source": [
    "mu.get_greetings(\"Jane Doe\")"
   ]
  },
  {
   "cell_type": "code",
   "execution_count": 5,
   "metadata": {},
   "outputs": [],
   "source": [
    "from my_util import get_greetings"
   ]
  },
  {
   "cell_type": "code",
   "execution_count": 6,
   "metadata": {},
   "outputs": [
    {
     "data": {
      "text/plain": [
       "'Hello, Smith Doe'"
      ]
     },
     "execution_count": 6,
     "metadata": {},
     "output_type": "execute_result"
    }
   ],
   "source": [
    "get_greetings(\"Smith Doe\")"
   ]
  },
  {
   "cell_type": "code",
   "execution_count": 7,
   "metadata": {},
   "outputs": [],
   "source": [
    "from my_util import get_greetings as gg"
   ]
  },
  {
   "cell_type": "code",
   "execution_count": 8,
   "metadata": {},
   "outputs": [
    {
     "data": {
      "text/plain": [
       "'Hello, 장동건'"
      ]
     },
     "execution_count": 8,
     "metadata": {},
     "output_type": "execute_result"
    }
   ],
   "source": [
    "gg(\"장동건\")"
   ]
  },
  {
   "cell_type": "code",
   "execution_count": 9,
   "metadata": {},
   "outputs": [],
   "source": [
    "from my_util import * # 모듈 안에 있는 모든 것을 가져옴 #~~~.py => 모듈"
   ]
  },
  {
   "cell_type": "code",
   "execution_count": 3,
   "metadata": {},
   "outputs": [],
   "source": [
    "import my_util"
   ]
  },
  {
   "cell_type": "code",
   "execution_count": 6,
   "metadata": {},
   "outputs": [],
   "source": [
    "import game.graphic.screen"
   ]
  },
  {
   "cell_type": "code",
   "execution_count": 7,
   "metadata": {},
   "outputs": [
    {
     "name": "stdout",
     "output_type": "stream",
     "text": [
      "game.graphic.screen\n"
     ]
    }
   ],
   "source": [
    "game.graphic.screen.ms()"
   ]
  },
  {
   "cell_type": "code",
   "execution_count": 8,
   "metadata": {},
   "outputs": [],
   "source": [
    "from game.graphic import screen # 위 두 줄과 같은 구문"
   ]
  },
  {
   "cell_type": "code",
   "execution_count": 10,
   "metadata": {},
   "outputs": [
    {
     "name": "stdout",
     "output_type": "stream",
     "text": [
      "game.graphic.screen\n"
     ]
    }
   ],
   "source": [
    "screen.ms() # 위 두 줄과 같은 구문"
   ]
  },
  {
   "cell_type": "code",
   "execution_count": null,
   "metadata": {},
   "outputs": [],
   "source": []
  },
  {
   "cell_type": "code",
   "execution_count": 9,
   "metadata": {},
   "outputs": [
    {
     "name": "stdout",
     "output_type": "stream",
     "text": [
      "BizCard1의 인스턴스를 만들었습니다.\n"
     ]
    }
   ],
   "source": [
    "class BizCard1:\n",
    "    '연락처 정보를 저장하는 클래스'\n",
    "    def __init__(self):\n",
    "        print('BizCard1의 인스턴스를 만들었습니다.')\n",
    "        \n",
    "bizCard1 = BizCard1() # 인스턴스 만들기 --> __init__ 호출"
   ]
  },
  {
   "cell_type": "code",
   "execution_count": 15,
   "metadata": {},
   "outputs": [
    {
     "name": "stdout",
     "output_type": "stream",
     "text": [
      "kys@example.com\n"
     ]
    }
   ],
   "source": [
    "class BizCard2:\n",
    "    '연락처 정보를 저장하는 클래스'\n",
    "    def __init__(self):\n",
    "        self.name = '' # 변수 만들기\n",
    "        self.email = ''\n",
    "        self.phone = ''\n",
    "        \n",
    "bizCard2 = BizCard2()\n",
    "bizCard2.name = '김윤석'\n",
    "bizCard2.email = 'kys@example.com'\n",
    "bizCard2.phone = '010-9632-5258'\n",
    "print(bizCard2.email)"
   ]
  },
  {
   "cell_type": "code",
   "execution_count": 20,
   "metadata": {},
   "outputs": [
    {
     "name": "stdout",
     "output_type": "stream",
     "text": [
      "modified\n"
     ]
    }
   ],
   "source": [
    "class BizCard3:\n",
    "    '연락처 정보를 저장하는 클래스'\n",
    "    def __init__(self, name='', email='', phone=''):\n",
    "        self.name = name # 변수 만들기\n",
    "        self.email = email # 전달인자 생성\n",
    "        self.phone = phone\n",
    "        \n",
    "bizCard3 = BizCard3('송강호', 'skh@exaple.com', '1234')\n",
    "# bizCard3.email = 'modified'\n",
    "print(bizCard3.email)"
   ]
  },
  {
   "cell_type": "code",
   "execution_count": 21,
   "metadata": {},
   "outputs": [
    {
     "name": "stdout",
     "output_type": "stream",
     "text": [
      "[송강호][skh@exaple.com][1234]\n"
     ]
    }
   ],
   "source": [
    "class BizCard4:\n",
    "    '연락처 정보를 저장하는 클래스'\n",
    "    def __init__(self, name='', email='', phone=''):\n",
    "        self.name = name # 변수 만들기\n",
    "        self.email = email # 전달인자 생성\n",
    "        self.phone = phone\n",
    "        \n",
    "    def info(self): # 메소드(함수) 정의, 함수는 무조건 ()안에 넣어야 함\n",
    "        return \"[{0}][{1}][{2}]\".format(self.name, self.email, self.phone)\n",
    "        \n",
    "bizCard4 = BizCard4('송강호', 'skh@exaple.com', '1234')\n",
    "print(bizCard4.info()) # 받아서 출력"
   ]
  },
  {
   "cell_type": "code",
   "execution_count": 6,
   "metadata": {},
   "outputs": [],
   "source": [
    "class Employee: # 설계도 만들기.class 만든다고 어떤 일이 일어나지는 않는다.\n",
    "    ## __init__ : 초기화 함수, 인스턴스 생성 시에 자동 호출\n",
    "    def __init__(self, name='', dept='', email=''): # class 내 모든 전달인자 첫번째 글자는 self여야 한다 # class 내 변수,함수 만들기 가능 # name부터는 전달인자, =''가 default이므로 값을 안넣어도 오류 안난다\n",
    "        self.name = name # self에 해당하는 self.변수 : 변수 만들기\n",
    "        self.dept = dept\n",
    "        self.email = email\n",
    "        \n",
    "    \n",
    "    def info(self): \n",
    "        return \"[NAME:{0}][DEPT:{1}][EMAIL:{2}]\".format(self.name, self.dept, self.email)"
   ]
  },
  {
   "cell_type": "code",
   "execution_count": 7,
   "metadata": {},
   "outputs": [
    {
     "name": "stdout",
     "output_type": "stream",
     "text": [
      "[NAME:장동건][DEPT:Sales][EMAIL:jdk@exmple.com]\n"
     ]
    }
   ],
   "source": [
    "# Employee(a,b,c) -> Employee.__init__(a, b, c)으로 되도록 Employee(장동건,,)내용을 보낸다(self.name,self.dept,self.email에)\n",
    "emp2 = Employee(\"장동건\", 'Sales', 'jdk@exmple.com')\n",
    "print( emp2.info() )"
   ]
  },
  {
   "cell_type": "code",
   "execution_count": 8,
   "metadata": {},
   "outputs": [],
   "source": [
    "emp = Employee() # 클래스 이름() : 인스턴스 만들기 # Employee()가 init 호출 # __init__에 =''인 default 값을 줘서 오류 안남"
   ]
  },
  {
   "cell_type": "code",
   "execution_count": 6,
   "metadata": {},
   "outputs": [
    {
     "name": "stdout",
     "output_type": "stream",
     "text": [
      "[NAME:John Doe][DEPT:HR][EMAIL:johndoe@example.com]\n"
     ]
    }
   ],
   "source": [
    "emp.name = \"John Doe\"\n",
    "emp.dept = 'HR'\n",
    "emp.email = 'johndoe@example.com'\n",
    "\n",
    "print( emp.info() )"
   ]
  },
  {
   "cell_type": "code",
   "execution_count": null,
   "metadata": {},
   "outputs": [],
   "source": []
  }
 ],
 "metadata": {
  "kernelspec": {
   "display_name": "Python 3",
   "language": "python",
   "name": "python3"
  },
  "language_info": {
   "codemirror_mode": {
    "name": "ipython",
    "version": 3
   },
   "file_extension": ".py",
   "mimetype": "text/x-python",
   "name": "python",
   "nbconvert_exporter": "python",
   "pygments_lexer": "ipython3",
   "version": "3.6.10"
  }
 },
 "nbformat": 4,
 "nbformat_minor": 4
}
