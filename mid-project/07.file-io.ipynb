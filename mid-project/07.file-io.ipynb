{
 "cells": [
  {
   "cell_type": "code",
   "execution_count": 28,
   "metadata": {},
   "outputs": [],
   "source": [
    "f = open('test-one.txt', 'w') # 파일 열기 (만들기)\n",
    "for idx in range(10):\n",
    "    # write : 쓰기\n",
    "    f.write('[{0}]번째 데이터입니다.\\n'.format(idx + 1))\n",
    "f.close() # 열면 닫아야 한다."
   ]
  },
  {
   "cell_type": "code",
   "execution_count": 31,
   "metadata": {},
   "outputs": [],
   "source": [
    "f = open('test-two.txt', 'w', encoding=\"utf-8\") # 파일 열기 (만들기) # utf-8은 호환성이 좋은 문자 코드이므로 주로 쓴다.\n",
    "for idx in range(10):\n",
    "    # write : 쓰기\n",
    "    f.write('[{0}]번째 데이터입니다.\\n'.format(idx + 1))\n",
    "f.close() # 열면 닫아야 한다."
   ]
  },
  {
   "cell_type": "code",
   "execution_count": 49,
   "metadata": {},
   "outputs": [],
   "source": [
    "f = open('test-two.txt', 'a', encoding=\"utf-8\") # 파일 열기 (만들기) # utf-8은 호환성이 좋은 문자 코드이므로 주로 쓴다.\n",
    "for idx in range(10):\n",
    "    # write : 쓰기\n",
    "    f.write('[{0}]번째 데이터입니다.\\n'.format(idx + 1))\n",
    "#f.close() # 열면 닫아야 한다."
   ]
  },
  {
   "cell_type": "code",
   "execution_count": 50,
   "metadata": {},
   "outputs": [],
   "source": [
    "f.close()"
   ]
  },
  {
   "cell_type": "code",
   "execution_count": 57,
   "metadata": {},
   "outputs": [],
   "source": [
    "# with 구문에서 열린 파일은 with 블록이 끝날 때 자동으로 close\n",
    "with open('test-three.txt', 'a', encoding=\"utf-8\") as f: # 자동으로 close가 되므로 (f.write까지의 파일이) f.close() 안써도된다\n",
    "    for idx in range(10):\n",
    "        f.write('[{0}]번째 데이터입니다.\\n'.format(idx + 1))\n",
    "#f.close()"
   ]
  },
  {
   "cell_type": "code",
   "execution_count": 72,
   "metadata": {},
   "outputs": [
    {
     "name": "stdout",
     "output_type": "stream",
     "text": [
      "-- [1]번째 데이터입니다.\n",
      "\n",
      "-- [2]번째 데이터입니다.\n",
      "\n",
      "-- [3]번째 데이터입니다.\n",
      "\n",
      "-- [4]번째 데이터입니다.\n",
      "\n",
      "-- [5]번째 데이터입니다.\n",
      "\n",
      "-- [6]번째 데이터입니다.\n",
      "\n",
      "-- [7]번째 데이터입니다.\n",
      "\n",
      "-- [8]번째 데이터입니다.\n",
      "\n",
      "-- [9]번째 데이터입니다.\n",
      "\n",
      "-- [10]번째 데이터입니다.\n",
      "\n"
     ]
    }
   ],
   "source": [
    "with open('test-three.txt', 'r', encoding='utf-8') as f:\n",
    "    while True:\n",
    "        line = f.readline() # 읽을 내용이 없으면 \"\" 반환\n",
    "        if line == \"\": # EOF(End of File) 파일의 끝\n",
    "            break\n",
    "        print('--',line)\n",
    "\n"
   ]
  },
  {
   "cell_type": "code",
   "execution_count": 73,
   "metadata": {},
   "outputs": [
    {
     "name": "stdout",
     "output_type": "stream",
     "text": [
      "[1]번째 데이터입니다.\n",
      "\n",
      "[2]번째 데이터입니다.\n",
      "\n",
      "[3]번째 데이터입니다.\n",
      "\n",
      "[4]번째 데이터입니다.\n",
      "\n",
      "[5]번째 데이터입니다.\n",
      "\n",
      "[6]번째 데이터입니다.\n",
      "\n",
      "[7]번째 데이터입니다.\n",
      "\n",
      "[8]번째 데이터입니다.\n",
      "\n",
      "[9]번째 데이터입니다.\n",
      "\n",
      "[10]번째 데이터입니다.\n",
      "\n"
     ]
    }
   ],
   "source": [
    "with open('test-three.txt', 'r', encoding='utf-8') as f:\n",
    "    lines = f.readlines() # 전체 파일 내용을 한 번에 읽기\n",
    "    for line in lines:\n",
    "        print(line)"
   ]
  }
 ],
 "metadata": {
  "kernelspec": {
   "display_name": "Python 3",
   "language": "python",
   "name": "python3"
  },
  "language_info": {
   "codemirror_mode": {
    "name": "ipython",
    "version": 3
   },
   "file_extension": ".py",
   "mimetype": "text/x-python",
   "name": "python",
   "nbconvert_exporter": "python",
   "pygments_lexer": "ipython3",
   "version": "3.6.10"
  }
 },
 "nbformat": 4,
 "nbformat_minor": 4
}
