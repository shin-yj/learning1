{
 "cells": [
  {
   "cell_type": "code",
   "execution_count": 1,
   "metadata": {},
   "outputs": [],
   "source": [
    "import os\n",
    "import re\n",
    "import numpy as np\n",
    "import pandas as pd"
   ]
  },
  {
   "cell_type": "code",
   "execution_count": 2,
   "metadata": {},
   "outputs": [
    {
     "data": {
      "text/plain": [
       "('raw-files/아파트(매매)_실거래가_201208.xlsx', 96)"
      ]
     },
     "execution_count": 2,
     "metadata": {},
     "output_type": "execute_result"
    }
   ],
   "source": [
    "# 원본 엑셀 파일 리스트 읽어오기, raw-files 폴더\n",
    "RAW_FILES_PATH = 'raw-files'\n",
    "\n",
    "raw_files = os.listdir(RAW_FILES_PATH)\n",
    "raw_files = [ f'{RAW_FILES_PATH}/{r}' for r in raw_files ]\n",
    "raw_files[0], len(raw_files)"
   ]
  },
  {
   "cell_type": "code",
   "execution_count": 3,
   "metadata": {},
   "outputs": [],
   "source": [
    "# 원본 엑셀 데이터 컬럼명\n",
    "RAW_FILE_COLUMNS = ['region', 'street_num', 'street_num1', 'street_num2',\n",
    "                    'apt_name', 'apt_size', 'contract_yymm', 'contract_dd',\n",
    "                    'contract_price', 'apt_floor','completion_year','street_name']"
   ]
  },
  {
   "cell_type": "code",
   "execution_count": 4,
   "metadata": {},
   "outputs": [],
   "source": [
    "# data-files 폴더 만들기\n",
    "DATA_FILES_PATH = 'data-files'\n",
    "\n",
    "if not(os.path.isdir(DATA_FILES_PATH)):\n",
    "    os.makedirs(os.path.join(DATA_FILES_PATH))"
   ]
  },
  {
   "cell_type": "code",
   "execution_count": 5,
   "metadata": {
    "tags": []
   },
   "outputs": [
    {
     "data": {
      "text/plain": [
       "('data-files/201208.csv', 96)"
      ]
     },
     "execution_count": 5,
     "metadata": {},
     "output_type": "execute_result"
    }
   ],
   "source": [
    "# 기록할 파일 리스트 만들기\n",
    "data_files = []\n",
    "for rf in raw_files:\n",
    "    p = re.compile('[0-9]+')\n",
    "    date_name = p.findall(rf)\n",
    "    data_files.append(f'{DATA_FILES_PATH}/{date_name[0]}.csv')\n",
    "\n",
    "# files_zip = zip(raw_files, data_files)\n",
    "data_files[0], len(data_files)"
   ]
  },
  {
   "cell_type": "code",
   "execution_count": 6,
   "metadata": {},
   "outputs": [],
   "source": [
    "# 수정 CSV 데이터 컬럼명\n",
    "DATA_FILE_COLUMNS = ['region', 'region_sub', 'apt_name', 'apt_size',\n",
    "                     'apt_floor', 'contract_date', 'contract_price',\n",
    "                     'completion_year', 'street_num', 'street_name']\n",
    "\n",
    "# region = 도, 광역시, 특별시\n",
    "# region_sub = 시군구\n",
    "# apt_name = 단지명\n",
    "# apt_size = 전용면적\n",
    "# apt_floor = 층\n",
    "# contract_date = 계약년월일\n",
    "# contract_price = 거래금액\n",
    "# completion_year = 건축년도\n",
    "# street_num = 번지\n",
    "# street_name = 도로명\n"
   ]
  },
  {
   "cell_type": "code",
   "execution_count": 142,
   "metadata": {
    "tags": []
   },
   "outputs": [
    {
     "name": "stdout",
     "output_type": "stream",
     "text": [
      "<class 'pandas.core.frame.DataFrame'>\n",
      "RangeIndex: 26054 entries, 0 to 26053\n",
      "Data columns (total 12 columns):\n",
      " #   Column           Non-Null Count  Dtype  \n",
      "---  ------           --------------  -----  \n",
      " 0   region           26054 non-null  object \n",
      " 1   street_num       26054 non-null  object \n",
      " 2   street_num1      26054 non-null  int64  \n",
      " 3   street_num2      26054 non-null  int64  \n",
      " 4   apt_name         26054 non-null  object \n",
      " 5   apt_size         26054 non-null  float64\n",
      " 6   contract_yymm    26054 non-null  int64  \n",
      " 7   contract_dd      26054 non-null  int64  \n",
      " 8   contract_price   26054 non-null  object \n",
      " 9   apt_floor        26054 non-null  int64  \n",
      " 10  completion_year  26054 non-null  int64  \n",
      " 11  street_name      26054 non-null  object \n",
      "dtypes: float64(1), int64(6), object(5)\n",
      "memory usage: 2.4+ MB\n"
     ]
    },
    {
     "data": {
      "text/html": [
       "<div>\n",
       "<style scoped>\n",
       "    .dataframe tbody tr th:only-of-type {\n",
       "        vertical-align: middle;\n",
       "    }\n",
       "\n",
       "    .dataframe tbody tr th {\n",
       "        vertical-align: top;\n",
       "    }\n",
       "\n",
       "    .dataframe thead th {\n",
       "        text-align: right;\n",
       "    }\n",
       "</style>\n",
       "<table border=\"1\" class=\"dataframe\">\n",
       "  <thead>\n",
       "    <tr style=\"text-align: right;\">\n",
       "      <th></th>\n",
       "      <th>region</th>\n",
       "      <th>street_num</th>\n",
       "      <th>street_num1</th>\n",
       "      <th>street_num2</th>\n",
       "      <th>apt_name</th>\n",
       "      <th>apt_size</th>\n",
       "      <th>contract_yymm</th>\n",
       "      <th>contract_dd</th>\n",
       "      <th>contract_price</th>\n",
       "      <th>apt_floor</th>\n",
       "      <th>completion_year</th>\n",
       "      <th>street_name</th>\n",
       "    </tr>\n",
       "  </thead>\n",
       "  <tbody>\n",
       "    <tr>\n",
       "      <th>0</th>\n",
       "      <td>강원도 강릉시 견소동</td>\n",
       "      <td>202</td>\n",
       "      <td>202</td>\n",
       "      <td>0</td>\n",
       "      <td>송정한신</td>\n",
       "      <td>84.945</td>\n",
       "      <td>201208</td>\n",
       "      <td>24</td>\n",
       "      <td>13,000</td>\n",
       "      <td>5</td>\n",
       "      <td>1997</td>\n",
       "      <td>경강로2539번길 8</td>\n",
       "    </tr>\n",
       "    <tr>\n",
       "      <th>1</th>\n",
       "      <td>강원도 강릉시 견소동</td>\n",
       "      <td>202</td>\n",
       "      <td>202</td>\n",
       "      <td>0</td>\n",
       "      <td>송정한신</td>\n",
       "      <td>59.800</td>\n",
       "      <td>201208</td>\n",
       "      <td>27</td>\n",
       "      <td>8,500</td>\n",
       "      <td>15</td>\n",
       "      <td>1997</td>\n",
       "      <td>경강로2539번길 8</td>\n",
       "    </tr>\n",
       "    <tr>\n",
       "      <th>2</th>\n",
       "      <td>강원도 강릉시 견소동</td>\n",
       "      <td>202</td>\n",
       "      <td>202</td>\n",
       "      <td>0</td>\n",
       "      <td>송정한신</td>\n",
       "      <td>59.800</td>\n",
       "      <td>201208</td>\n",
       "      <td>31</td>\n",
       "      <td>6,000</td>\n",
       "      <td>1</td>\n",
       "      <td>1997</td>\n",
       "      <td>경강로2539번길 8</td>\n",
       "    </tr>\n",
       "    <tr>\n",
       "      <th>3</th>\n",
       "      <td>강원도 강릉시 견소동</td>\n",
       "      <td>289</td>\n",
       "      <td>289</td>\n",
       "      <td>0</td>\n",
       "      <td>송정해변신도브래뉴아파트</td>\n",
       "      <td>84.990</td>\n",
       "      <td>201208</td>\n",
       "      <td>8</td>\n",
       "      <td>15,000</td>\n",
       "      <td>7</td>\n",
       "      <td>2005</td>\n",
       "      <td>경강로2539번길 22</td>\n",
       "    </tr>\n",
       "    <tr>\n",
       "      <th>4</th>\n",
       "      <td>강원도 강릉시 견소동</td>\n",
       "      <td>289</td>\n",
       "      <td>289</td>\n",
       "      <td>0</td>\n",
       "      <td>송정해변신도브래뉴아파트</td>\n",
       "      <td>84.990</td>\n",
       "      <td>201208</td>\n",
       "      <td>9</td>\n",
       "      <td>16,500</td>\n",
       "      <td>9</td>\n",
       "      <td>2005</td>\n",
       "      <td>경강로2539번길 22</td>\n",
       "    </tr>\n",
       "  </tbody>\n",
       "</table>\n",
       "</div>"
      ],
      "text/plain": [
       "        region street_num  street_num1  street_num2      apt_name  apt_size  \\\n",
       "0  강원도 강릉시 견소동        202          202            0          송정한신    84.945   \n",
       "1  강원도 강릉시 견소동        202          202            0          송정한신    59.800   \n",
       "2  강원도 강릉시 견소동        202          202            0          송정한신    59.800   \n",
       "3  강원도 강릉시 견소동        289          289            0  송정해변신도브래뉴아파트    84.990   \n",
       "4  강원도 강릉시 견소동        289          289            0  송정해변신도브래뉴아파트    84.990   \n",
       "\n",
       "   contract_yymm  contract_dd  contract_price  apt_floor  completion_year  \\\n",
       "0         201208           24          13,000          5             1997   \n",
       "1         201208           27           8,500         15             1997   \n",
       "2         201208           31           6,000          1             1997   \n",
       "3         201208            8          15,000          7             2005   \n",
       "4         201208            9          16,500          9             2005   \n",
       "\n",
       "    street_name  \n",
       "0   경강로2539번길 8  \n",
       "1   경강로2539번길 8  \n",
       "2   경강로2539번길 8  \n",
       "3  경강로2539번길 22  \n",
       "4  경강로2539번길 22  "
      ]
     },
     "execution_count": 142,
     "metadata": {},
     "output_type": "execute_result"
    }
   ],
   "source": [
    "# 엑셀 파일 로드 테스트\n",
    "fileD = pd.read_excel(raw_files[0], index_col=None, header=None, skiprows=17)\n",
    "fileD.columns = RAW_FILE_COLUMNS\n",
    "\n",
    "fileD.info()\n",
    "fileD.head()"
   ]
  },
  {
   "cell_type": "code",
   "execution_count": 143,
   "metadata": {},
   "outputs": [],
   "source": [
    "# 컬럼 추가 및 데이터 수정 함수\n",
    "def buildRawD(D=None):\n",
    "    if D is None:\n",
    "        return 0\n",
    "\n",
    "    region_str = D['region'].split(\" \", 1)\n",
    "    \n",
    "    D['region'] = region_str[0]\n",
    "    D['region_sub'] = region_str[1]\n",
    "\n",
    "    D['apt_size'] = f'{D[\"apt_size\"]:#.02f}'\n",
    "\n",
    "    # yyyy-mm-dd 형식 변환\n",
    "    yymm = str(D['contract_yymm'])\n",
    "    D['contract_date'] = f'{yymm[:4]}-{yymm[4:]}-{D[\"contract_dd\"]:#02d}'\n",
    "    \n",
    "    # ',' 제거, (만원) -> 0000 추가\n",
    "    D['contract_price'] = D['contract_price'].replace(',', '') + '0000'\n",
    "\n",
    "    return D\n"
   ]
  },
  {
   "cell_type": "code",
   "execution_count": 144,
   "metadata": {
    "tags": []
   },
   "outputs": [
    {
     "name": "stdout",
     "output_type": "stream",
     "text": [
      "<class 'pandas.core.frame.DataFrame'>\n",
      "RangeIndex: 26054 entries, 0 to 26053\n",
      "Data columns (total 14 columns):\n",
      " #   Column           Non-Null Count  Dtype \n",
      "---  ------           --------------  ----- \n",
      " 0   region           26054 non-null  object\n",
      " 1   street_num       26054 non-null  object\n",
      " 2   street_num1      26054 non-null  int64 \n",
      " 3   street_num2      26054 non-null  int64 \n",
      " 4   apt_name         26054 non-null  object\n",
      " 5   apt_size         26054 non-null  object\n",
      " 6   contract_yymm    26054 non-null  int64 \n",
      " 7   contract_dd      26054 non-null  int64 \n",
      " 8   contract_price   26054 non-null  object\n",
      " 9   apt_floor        26054 non-null  int64 \n",
      " 10  completion_year  26054 non-null  int64 \n",
      " 11  street_name      26054 non-null  object\n",
      " 12  region_sub       26054 non-null  object\n",
      " 13  contract_date    26054 non-null  object\n",
      "dtypes: int64(6), object(8)\n",
      "memory usage: 2.8+ MB\n"
     ]
    },
    {
     "data": {
      "text/html": [
       "<div>\n",
       "<style scoped>\n",
       "    .dataframe tbody tr th:only-of-type {\n",
       "        vertical-align: middle;\n",
       "    }\n",
       "\n",
       "    .dataframe tbody tr th {\n",
       "        vertical-align: top;\n",
       "    }\n",
       "\n",
       "    .dataframe thead th {\n",
       "        text-align: right;\n",
       "    }\n",
       "</style>\n",
       "<table border=\"1\" class=\"dataframe\">\n",
       "  <thead>\n",
       "    <tr style=\"text-align: right;\">\n",
       "      <th></th>\n",
       "      <th>region</th>\n",
       "      <th>street_num</th>\n",
       "      <th>street_num1</th>\n",
       "      <th>street_num2</th>\n",
       "      <th>apt_name</th>\n",
       "      <th>apt_size</th>\n",
       "      <th>contract_yymm</th>\n",
       "      <th>contract_dd</th>\n",
       "      <th>contract_price</th>\n",
       "      <th>apt_floor</th>\n",
       "      <th>completion_year</th>\n",
       "      <th>street_name</th>\n",
       "      <th>region_sub</th>\n",
       "      <th>contract_date</th>\n",
       "    </tr>\n",
       "  </thead>\n",
       "  <tbody>\n",
       "    <tr>\n",
       "      <th>0</th>\n",
       "      <td>강원도</td>\n",
       "      <td>202</td>\n",
       "      <td>202</td>\n",
       "      <td>0</td>\n",
       "      <td>송정한신</td>\n",
       "      <td>84.94</td>\n",
       "      <td>201208</td>\n",
       "      <td>24</td>\n",
       "      <td>130000000</td>\n",
       "      <td>5</td>\n",
       "      <td>1997</td>\n",
       "      <td>경강로2539번길 8</td>\n",
       "      <td>강릉시 견소동</td>\n",
       "      <td>2012-08-24</td>\n",
       "    </tr>\n",
       "    <tr>\n",
       "      <th>1</th>\n",
       "      <td>강원도</td>\n",
       "      <td>202</td>\n",
       "      <td>202</td>\n",
       "      <td>0</td>\n",
       "      <td>송정한신</td>\n",
       "      <td>59.80</td>\n",
       "      <td>201208</td>\n",
       "      <td>27</td>\n",
       "      <td>85000000</td>\n",
       "      <td>15</td>\n",
       "      <td>1997</td>\n",
       "      <td>경강로2539번길 8</td>\n",
       "      <td>강릉시 견소동</td>\n",
       "      <td>2012-08-27</td>\n",
       "    </tr>\n",
       "    <tr>\n",
       "      <th>2</th>\n",
       "      <td>강원도</td>\n",
       "      <td>202</td>\n",
       "      <td>202</td>\n",
       "      <td>0</td>\n",
       "      <td>송정한신</td>\n",
       "      <td>59.80</td>\n",
       "      <td>201208</td>\n",
       "      <td>31</td>\n",
       "      <td>60000000</td>\n",
       "      <td>1</td>\n",
       "      <td>1997</td>\n",
       "      <td>경강로2539번길 8</td>\n",
       "      <td>강릉시 견소동</td>\n",
       "      <td>2012-08-31</td>\n",
       "    </tr>\n",
       "    <tr>\n",
       "      <th>3</th>\n",
       "      <td>강원도</td>\n",
       "      <td>289</td>\n",
       "      <td>289</td>\n",
       "      <td>0</td>\n",
       "      <td>송정해변신도브래뉴아파트</td>\n",
       "      <td>84.99</td>\n",
       "      <td>201208</td>\n",
       "      <td>8</td>\n",
       "      <td>150000000</td>\n",
       "      <td>7</td>\n",
       "      <td>2005</td>\n",
       "      <td>경강로2539번길 22</td>\n",
       "      <td>강릉시 견소동</td>\n",
       "      <td>2012-08-08</td>\n",
       "    </tr>\n",
       "    <tr>\n",
       "      <th>4</th>\n",
       "      <td>강원도</td>\n",
       "      <td>289</td>\n",
       "      <td>289</td>\n",
       "      <td>0</td>\n",
       "      <td>송정해변신도브래뉴아파트</td>\n",
       "      <td>84.99</td>\n",
       "      <td>201208</td>\n",
       "      <td>9</td>\n",
       "      <td>165000000</td>\n",
       "      <td>9</td>\n",
       "      <td>2005</td>\n",
       "      <td>경강로2539번길 22</td>\n",
       "      <td>강릉시 견소동</td>\n",
       "      <td>2012-08-09</td>\n",
       "    </tr>\n",
       "  </tbody>\n",
       "</table>\n",
       "</div>"
      ],
      "text/plain": [
       "  region street_num  street_num1  street_num2      apt_name apt_size  \\\n",
       "0    강원도        202          202            0          송정한신    84.94   \n",
       "1    강원도        202          202            0          송정한신    59.80   \n",
       "2    강원도        202          202            0          송정한신    59.80   \n",
       "3    강원도        289          289            0  송정해변신도브래뉴아파트    84.99   \n",
       "4    강원도        289          289            0  송정해변신도브래뉴아파트    84.99   \n",
       "\n",
       "   contract_yymm  contract_dd     contract_price  apt_floor  completion_year  \\\n",
       "0         201208           24          130000000          5             1997   \n",
       "1         201208           27           85000000         15             1997   \n",
       "2         201208           31           60000000          1             1997   \n",
       "3         201208            8          150000000          7             2005   \n",
       "4         201208            9          165000000          9             2005   \n",
       "\n",
       "    street_name region_sub contract_date  \n",
       "0   경강로2539번길 8    강릉시 견소동    2012-08-24  \n",
       "1   경강로2539번길 8    강릉시 견소동    2012-08-27  \n",
       "2   경강로2539번길 8    강릉시 견소동    2012-08-31  \n",
       "3  경강로2539번길 22    강릉시 견소동    2012-08-08  \n",
       "4  경강로2539번길 22    강릉시 견소동    2012-08-09  "
      ]
     },
     "execution_count": 144,
     "metadata": {},
     "output_type": "execute_result"
    }
   ],
   "source": [
    "# 원본 데이터 수정\n",
    "rawD = fileD.apply(buildRawD, axis=1)\n",
    "\n",
    "rawD.info()\n",
    "rawD.head()"
   ]
  },
  {
   "cell_type": "code",
   "execution_count": 145,
   "metadata": {
    "tags": []
   },
   "outputs": [
    {
     "name": "stdout",
     "output_type": "stream",
     "text": [
      "<class 'pandas.core.frame.DataFrame'>\n",
      "RangeIndex: 26054 entries, 0 to 26053\n",
      "Data columns (total 10 columns):\n",
      " #   Column           Non-Null Count  Dtype \n",
      "---  ------           --------------  ----- \n",
      " 0   region           26054 non-null  object\n",
      " 1   region_sub       26054 non-null  object\n",
      " 2   apt_name         26054 non-null  object\n",
      " 3   apt_size         26054 non-null  object\n",
      " 4   apt_floor        26054 non-null  int64 \n",
      " 5   contract_date    26054 non-null  object\n",
      " 6   contract_price   26054 non-null  object\n",
      " 7   completion_year  26054 non-null  int64 \n",
      " 8   street_num       26054 non-null  object\n",
      " 9   street_name      26054 non-null  object\n",
      "dtypes: int64(2), object(8)\n",
      "memory usage: 2.0+ MB\n"
     ]
    },
    {
     "data": {
      "text/html": [
       "<div>\n",
       "<style scoped>\n",
       "    .dataframe tbody tr th:only-of-type {\n",
       "        vertical-align: middle;\n",
       "    }\n",
       "\n",
       "    .dataframe tbody tr th {\n",
       "        vertical-align: top;\n",
       "    }\n",
       "\n",
       "    .dataframe thead th {\n",
       "        text-align: right;\n",
       "    }\n",
       "</style>\n",
       "<table border=\"1\" class=\"dataframe\">\n",
       "  <thead>\n",
       "    <tr style=\"text-align: right;\">\n",
       "      <th></th>\n",
       "      <th>region</th>\n",
       "      <th>region_sub</th>\n",
       "      <th>apt_name</th>\n",
       "      <th>apt_size</th>\n",
       "      <th>apt_floor</th>\n",
       "      <th>contract_date</th>\n",
       "      <th>contract_price</th>\n",
       "      <th>completion_year</th>\n",
       "      <th>street_num</th>\n",
       "      <th>street_name</th>\n",
       "    </tr>\n",
       "  </thead>\n",
       "  <tbody>\n",
       "    <tr>\n",
       "      <th>0</th>\n",
       "      <td>강원도</td>\n",
       "      <td>강릉시 견소동</td>\n",
       "      <td>송정한신</td>\n",
       "      <td>84.94</td>\n",
       "      <td>5</td>\n",
       "      <td>2012-08-24</td>\n",
       "      <td>130000000</td>\n",
       "      <td>1997</td>\n",
       "      <td>202</td>\n",
       "      <td>경강로2539번길 8</td>\n",
       "    </tr>\n",
       "    <tr>\n",
       "      <th>1</th>\n",
       "      <td>강원도</td>\n",
       "      <td>강릉시 견소동</td>\n",
       "      <td>송정한신</td>\n",
       "      <td>59.80</td>\n",
       "      <td>15</td>\n",
       "      <td>2012-08-27</td>\n",
       "      <td>85000000</td>\n",
       "      <td>1997</td>\n",
       "      <td>202</td>\n",
       "      <td>경강로2539번길 8</td>\n",
       "    </tr>\n",
       "    <tr>\n",
       "      <th>2</th>\n",
       "      <td>강원도</td>\n",
       "      <td>강릉시 견소동</td>\n",
       "      <td>송정한신</td>\n",
       "      <td>59.80</td>\n",
       "      <td>1</td>\n",
       "      <td>2012-08-31</td>\n",
       "      <td>60000000</td>\n",
       "      <td>1997</td>\n",
       "      <td>202</td>\n",
       "      <td>경강로2539번길 8</td>\n",
       "    </tr>\n",
       "    <tr>\n",
       "      <th>3</th>\n",
       "      <td>강원도</td>\n",
       "      <td>강릉시 견소동</td>\n",
       "      <td>송정해변신도브래뉴아파트</td>\n",
       "      <td>84.99</td>\n",
       "      <td>7</td>\n",
       "      <td>2012-08-08</td>\n",
       "      <td>150000000</td>\n",
       "      <td>2005</td>\n",
       "      <td>289</td>\n",
       "      <td>경강로2539번길 22</td>\n",
       "    </tr>\n",
       "    <tr>\n",
       "      <th>4</th>\n",
       "      <td>강원도</td>\n",
       "      <td>강릉시 견소동</td>\n",
       "      <td>송정해변신도브래뉴아파트</td>\n",
       "      <td>84.99</td>\n",
       "      <td>9</td>\n",
       "      <td>2012-08-09</td>\n",
       "      <td>165000000</td>\n",
       "      <td>2005</td>\n",
       "      <td>289</td>\n",
       "      <td>경강로2539번길 22</td>\n",
       "    </tr>\n",
       "  </tbody>\n",
       "</table>\n",
       "</div>"
      ],
      "text/plain": [
       "  region region_sub      apt_name apt_size  apt_floor contract_date  \\\n",
       "0    강원도    강릉시 견소동          송정한신    84.94          5    2012-08-24   \n",
       "1    강원도    강릉시 견소동          송정한신    59.80         15    2012-08-27   \n",
       "2    강원도    강릉시 견소동          송정한신    59.80          1    2012-08-31   \n",
       "3    강원도    강릉시 견소동  송정해변신도브래뉴아파트    84.99          7    2012-08-08   \n",
       "4    강원도    강릉시 견소동  송정해변신도브래뉴아파트    84.99          9    2012-08-09   \n",
       "\n",
       "      contract_price  completion_year street_num   street_name  \n",
       "0          130000000             1997        202   경강로2539번길 8  \n",
       "1           85000000             1997        202   경강로2539번길 8  \n",
       "2           60000000             1997        202   경강로2539번길 8  \n",
       "3          150000000             2005        289  경강로2539번길 22  \n",
       "4          165000000             2005        289  경강로2539번길 22  "
      ]
     },
     "execution_count": 145,
     "metadata": {},
     "output_type": "execute_result"
    }
   ],
   "source": [
    "\n",
    "# 필요 데이터 선택 및 컬럼 재배치, 데이터 변환하기\n",
    "dataD = rawD.loc[:, DATA_FILE_COLUMNS]\n",
    "\n",
    "dataD.info()\n",
    "dataD.head()"
   ]
  },
  {
   "cell_type": "code",
   "execution_count": 146,
   "metadata": {},
   "outputs": [],
   "source": [
    "# data-files 폴더에 수정한 데이터 csv 파일 저장\n",
    "dataD.to_csv(data_files[0], mode='w', header=True, index=False)"
   ]
  },
  {
   "cell_type": "code",
   "execution_count": 16,
   "metadata": {},
   "outputs": [],
   "source": [
    "# 파일 일괄 수정 및 저장 함수\n",
    "def make_new_files(files_zip):\n",
    "    \n",
    "    total_count = 0\n",
    "    for raw_path, data_path in files_zip:\n",
    "        fileD = pd.read_excel(raw_path, index_col=None, header=None, skiprows=17)\n",
    "        fileD.columns = RAW_FILE_COLUMNS\n",
    "        \n",
    "        rawD = fileD.apply(buildRawD, axis=1)\n",
    "        dataD = rawD.loc[:, DATA_FILE_COLUMNS]\n",
    "\n",
    "        dataD.to_csv(data_path, mode='w', header=True, index=False)\n",
    "\n",
    "        data_count = len(dataD)\n",
    "        total_count += data_count\n",
    "        print(f'complete {data_path}, data count: {data_count}')\n",
    "    \n",
    "    print(f'total data count: {total_count}')"
   ]
  },
  {
   "cell_type": "code",
   "execution_count": 17,
   "metadata": {
    "tags": []
   },
   "outputs": [],
   "source": [
    "# 일괄 파일 만들기\n",
    "# data-files 폴더 지우고 실행\n",
    "# 소요 시간 3시간 15분!!!\n",
    "# total data count: 4800528\n",
    "\n",
    "# make_new_files(zip(raw_files, data_files))"
   ]
  },
  {
   "cell_type": "code",
   "execution_count": 151,
   "metadata": {
    "tags": []
   },
   "outputs": [
    {
     "data": {
      "text/plain": [
       "['data-files/201208.csv',\n",
       " 'data-files/201209.csv',\n",
       " 'data-files/201210.csv',\n",
       " 'data-files/201211.csv',\n",
       " 'data-files/201212.csv',\n",
       " 'data-files/201301.csv',\n",
       " 'data-files/201302.csv',\n",
       " 'data-files/201303.csv',\n",
       " 'data-files/201304.csv',\n",
       " 'data-files/201305.csv',\n",
       " 'data-files/201306.csv',\n",
       " 'data-files/201307.csv',\n",
       " 'data-files/201308.csv',\n",
       " 'data-files/201309.csv',\n",
       " 'data-files/201310.csv',\n",
       " 'data-files/201311.csv',\n",
       " 'data-files/201312.csv',\n",
       " 'data-files/201401.csv',\n",
       " 'data-files/201402.csv',\n",
       " 'data-files/201403.csv',\n",
       " 'data-files/201404.csv',\n",
       " 'data-files/201405.csv',\n",
       " 'data-files/201406.csv',\n",
       " 'data-files/201407.csv',\n",
       " 'data-files/201408.csv',\n",
       " 'data-files/201409.csv',\n",
       " 'data-files/201410.csv',\n",
       " 'data-files/201411.csv',\n",
       " 'data-files/201412.csv',\n",
       " 'data-files/201501.csv',\n",
       " 'data-files/201502.csv',\n",
       " 'data-files/201503.csv',\n",
       " 'data-files/201504.csv',\n",
       " 'data-files/201505.csv',\n",
       " 'data-files/201506.csv',\n",
       " 'data-files/201507.csv',\n",
       " 'data-files/201508.csv',\n",
       " 'data-files/201509.csv',\n",
       " 'data-files/201510.csv',\n",
       " 'data-files/201511.csv',\n",
       " 'data-files/201512.csv',\n",
       " 'data-files/201601.csv',\n",
       " 'data-files/201602.csv',\n",
       " 'data-files/201603.csv',\n",
       " 'data-files/201604.csv',\n",
       " 'data-files/201605.csv',\n",
       " 'data-files/201606.csv',\n",
       " 'data-files/201607.csv',\n",
       " 'data-files/201608.csv',\n",
       " 'data-files/201609.csv',\n",
       " 'data-files/201610.csv',\n",
       " 'data-files/201611.csv',\n",
       " 'data-files/201612.csv',\n",
       " 'data-files/201701.csv',\n",
       " 'data-files/201702.csv',\n",
       " 'data-files/201703.csv',\n",
       " 'data-files/201704.csv',\n",
       " 'data-files/201705.csv',\n",
       " 'data-files/201706.csv',\n",
       " 'data-files/201707.csv',\n",
       " 'data-files/201708.csv',\n",
       " 'data-files/201709.csv',\n",
       " 'data-files/201710.csv',\n",
       " 'data-files/201711.csv',\n",
       " 'data-files/201712.csv',\n",
       " 'data-files/201801.csv',\n",
       " 'data-files/201802.csv',\n",
       " 'data-files/201803.csv',\n",
       " 'data-files/201804.csv',\n",
       " 'data-files/201805.csv',\n",
       " 'data-files/201806.csv',\n",
       " 'data-files/201807.csv',\n",
       " 'data-files/201808.csv',\n",
       " 'data-files/201809.csv',\n",
       " 'data-files/201810.csv',\n",
       " 'data-files/201811.csv',\n",
       " 'data-files/201812.csv',\n",
       " 'data-files/201901.csv',\n",
       " 'data-files/201902.csv',\n",
       " 'data-files/201903.csv',\n",
       " 'data-files/201904.csv',\n",
       " 'data-files/201905.csv',\n",
       " 'data-files/201906.csv',\n",
       " 'data-files/201907.csv',\n",
       " 'data-files/201908.csv',\n",
       " 'data-files/201909.csv',\n",
       " 'data-files/201910.csv',\n",
       " 'data-files/201911.csv',\n",
       " 'data-files/201912.csv',\n",
       " 'data-files/202001.csv',\n",
       " 'data-files/202002.csv',\n",
       " 'data-files/202003.csv',\n",
       " 'data-files/202004.csv',\n",
       " 'data-files/202005.csv',\n",
       " 'data-files/202006.csv',\n",
       " 'data-files/202007.csv']"
      ]
     },
     "execution_count": 151,
     "metadata": {},
     "output_type": "execute_result"
    }
   ],
   "source": [
    "# 생성 파일 로드 테스트\n",
    "data_files[:]"
   ]
  },
  {
   "cell_type": "code",
   "execution_count": null,
   "metadata": {},
   "outputs": [],
   "source": []
  },
  {
   "cell_type": "code",
   "execution_count": null,
   "metadata": {},
   "outputs": [],
   "source": []
  },
  {
   "cell_type": "code",
   "execution_count": 19,
   "metadata": {},
   "outputs": [],
   "source": [
    "import matplotlib.pyplot as plt\n",
    "from sklearn.linear_model import LinearRegression\n",
    "X= testD.drop(['region','region_sub','apt_name','contract_date','street_num','street_name'], axis=1)\n",
    "y= testD['contract_price']"
   ]
  },
  {
   "cell_type": "code",
   "execution_count": 20,
   "metadata": {},
   "outputs": [],
   "source": [
    "from sklearn.linear_model import LinearRegression, Ridge, Lasso\n",
    "from sklearn.model_selection import train_test_split"
   ]
  },
  {
   "cell_type": "code",
   "execution_count": 21,
   "metadata": {},
   "outputs": [
    {
     "data": {
      "text/html": [
       "<div>\n",
       "<style scoped>\n",
       "    .dataframe tbody tr th:only-of-type {\n",
       "        vertical-align: middle;\n",
       "    }\n",
       "\n",
       "    .dataframe tbody tr th {\n",
       "        vertical-align: top;\n",
       "    }\n",
       "\n",
       "    .dataframe thead th {\n",
       "        text-align: right;\n",
       "    }\n",
       "</style>\n",
       "<table border=\"1\" class=\"dataframe\">\n",
       "  <thead>\n",
       "    <tr style=\"text-align: right;\">\n",
       "      <th></th>\n",
       "      <th>apt_size</th>\n",
       "      <th>apt_floor</th>\n",
       "      <th>contract_price</th>\n",
       "      <th>completion_year</th>\n",
       "    </tr>\n",
       "  </thead>\n",
       "  <tbody>\n",
       "    <tr>\n",
       "      <th>count</th>\n",
       "      <td>26054.000000</td>\n",
       "      <td>26054.00000</td>\n",
       "      <td>2.605400e+04</td>\n",
       "      <td>26054.000000</td>\n",
       "    </tr>\n",
       "    <tr>\n",
       "      <th>mean</th>\n",
       "      <td>74.624277</td>\n",
       "      <td>8.49858</td>\n",
       "      <td>1.930895e+08</td>\n",
       "      <td>1999.366393</td>\n",
       "    </tr>\n",
       "    <tr>\n",
       "      <th>std</th>\n",
       "      <td>27.460985</td>\n",
       "      <td>5.82383</td>\n",
       "      <td>1.510303e+08</td>\n",
       "      <td>7.534805</td>\n",
       "    </tr>\n",
       "    <tr>\n",
       "      <th>min</th>\n",
       "      <td>12.030000</td>\n",
       "      <td>1.00000</td>\n",
       "      <td>1.000000e+07</td>\n",
       "      <td>1962.000000</td>\n",
       "    </tr>\n",
       "    <tr>\n",
       "      <th>25%</th>\n",
       "      <td>59.400000</td>\n",
       "      <td>4.00000</td>\n",
       "      <td>1.000000e+08</td>\n",
       "      <td>1994.000000</td>\n",
       "    </tr>\n",
       "    <tr>\n",
       "      <th>50%</th>\n",
       "      <td>71.880000</td>\n",
       "      <td>8.00000</td>\n",
       "      <td>1.630000e+08</td>\n",
       "      <td>1999.000000</td>\n",
       "    </tr>\n",
       "    <tr>\n",
       "      <th>75%</th>\n",
       "      <td>84.950000</td>\n",
       "      <td>12.00000</td>\n",
       "      <td>2.400000e+08</td>\n",
       "      <td>2005.000000</td>\n",
       "    </tr>\n",
       "    <tr>\n",
       "      <th>max</th>\n",
       "      <td>283.110000</td>\n",
       "      <td>67.00000</td>\n",
       "      <td>3.500000e+09</td>\n",
       "      <td>2018.000000</td>\n",
       "    </tr>\n",
       "  </tbody>\n",
       "</table>\n",
       "</div>"
      ],
      "text/plain": [
       "           apt_size    apt_floor  contract_price  completion_year\n",
       "count  26054.000000  26054.00000    2.605400e+04     26054.000000\n",
       "mean      74.624277      8.49858    1.930895e+08      1999.366393\n",
       "std       27.460985      5.82383    1.510303e+08         7.534805\n",
       "min       12.030000      1.00000    1.000000e+07      1962.000000\n",
       "25%       59.400000      4.00000    1.000000e+08      1994.000000\n",
       "50%       71.880000      8.00000    1.630000e+08      1999.000000\n",
       "75%       84.950000     12.00000    2.400000e+08      2005.000000\n",
       "max      283.110000     67.00000    3.500000e+09      2018.000000"
      ]
     },
     "execution_count": 21,
     "metadata": {},
     "output_type": "execute_result"
    }
   ],
   "source": [
    "testD.describe() # 데이터 기초통계량"
   ]
  },
  {
   "cell_type": "code",
   "execution_count": 22,
   "metadata": {},
   "outputs": [
    {
     "data": {
      "image/png": "[encoded data removed]",
      "text/plain": [
       "<Figure size 1440x1080 with 4 Axes>"
      ]
     },
     "metadata": {
      "needs_background": "light"
     },
     "output_type": "display_data"
    }
   ],
   "source": [
    "testD.hist(bins=50, figsize=(20,15)) # 히스토그램으로 데이터 분포 보기\n",
    "plt.show()"
   ]
  },
  {
   "cell_type": "code",
   "execution_count": 23,
   "metadata": {},
   "outputs": [
    {
     "data": {
      "image/png": "[encoded data removed]",
      "text/plain": [
       "<Figure size 432x288 with 1 Axes>"
      ]
     },
     "metadata": {
      "needs_background": "light"
     },
     "output_type": "display_data"
    }
   ],
   "source": [
    "# 집값 비싼 순으로 시각화\n",
    "ax = X.plot(kind=\"scatter\", x=\"completion_year\", y=\"contract_price\", alpha=0.15)\n",
    "ax.set(xlabel='completion_year', ylabel='contract_price')\n",
    "plt.show()"
   ]
  },
  {
   "cell_type": "code",
   "execution_count": 24,
   "metadata": {},
   "outputs": [
    {
     "data": {
      "text/plain": [
       "0        130000000\n",
       "1         85000000\n",
       "2         60000000\n",
       "3        150000000\n",
       "4        165000000\n",
       "           ...    \n",
       "26049    247000000\n",
       "26050     91000000\n",
       "26051     72000000\n",
       "26052    100000000\n",
       "26053    153000000\n",
       "Name: contract_price, Length: 26054, dtype: int64"
      ]
     },
     "execution_count": 24,
     "metadata": {},
     "output_type": "execute_result"
    }
   ],
   "source": [
    "X['contract_price']"
   ]
  },
  {
   "cell_type": "code",
   "execution_count": 25,
   "metadata": {},
   "outputs": [
    {
     "data": {
      "text/plain": [
       "0        1997\n",
       "1        1997\n",
       "2        1997\n",
       "3        2005\n",
       "4        2005\n",
       "         ... \n",
       "26049    2007\n",
       "26050    1994\n",
       "26051    1994\n",
       "26052    1994\n",
       "26053    2002\n",
       "Name: completion_year, Length: 26054, dtype: int64"
      ]
     },
     "execution_count": 25,
     "metadata": {},
     "output_type": "execute_result"
    }
   ],
   "source": [
    "X['completion_year']"
   ]
  },
  {
   "cell_type": "code",
   "execution_count": 26,
   "metadata": {},
   "outputs": [
    {
     "data": {
      "text/html": [
       "<div>\n",
       "<style scoped>\n",
       "    .dataframe tbody tr th:only-of-type {\n",
       "        vertical-align: middle;\n",
       "    }\n",
       "\n",
       "    .dataframe tbody tr th {\n",
       "        vertical-align: top;\n",
       "    }\n",
       "\n",
       "    .dataframe thead th {\n",
       "        text-align: right;\n",
       "    }\n",
       "</style>\n",
       "<table border=\"1\" class=\"dataframe\">\n",
       "  <thead>\n",
       "    <tr style=\"text-align: right;\">\n",
       "      <th></th>\n",
       "      <th>apt_size</th>\n",
       "      <th>apt_floor</th>\n",
       "      <th>contract_price</th>\n",
       "      <th>completion_year</th>\n",
       "    </tr>\n",
       "  </thead>\n",
       "  <tbody>\n",
       "    <tr>\n",
       "      <th>apt_size</th>\n",
       "      <td>1.000000</td>\n",
       "      <td>0.179302</td>\n",
       "      <td>0.627849</td>\n",
       "      <td>0.332186</td>\n",
       "    </tr>\n",
       "    <tr>\n",
       "      <th>apt_floor</th>\n",
       "      <td>0.179302</td>\n",
       "      <td>1.000000</td>\n",
       "      <td>0.241157</td>\n",
       "      <td>0.242638</td>\n",
       "    </tr>\n",
       "    <tr>\n",
       "      <th>contract_price</th>\n",
       "      <td>0.627849</td>\n",
       "      <td>0.241157</td>\n",
       "      <td>1.000000</td>\n",
       "      <td>0.284054</td>\n",
       "    </tr>\n",
       "    <tr>\n",
       "      <th>completion_year</th>\n",
       "      <td>0.332186</td>\n",
       "      <td>0.242638</td>\n",
       "      <td>0.284054</td>\n",
       "      <td>1.000000</td>\n",
       "    </tr>\n",
       "  </tbody>\n",
       "</table>\n",
       "</div>"
      ],
      "text/plain": [
       "                 apt_size  apt_floor  contract_price  completion_year\n",
       "apt_size         1.000000   0.179302        0.627849         0.332186\n",
       "apt_floor        0.179302   1.000000        0.241157         0.242638\n",
       "contract_price   0.627849   0.241157        1.000000         0.284054\n",
       "completion_year  0.332186   0.242638        0.284054         1.000000"
      ]
     },
     "execution_count": 26,
     "metadata": {},
     "output_type": "execute_result"
    }
   ],
   "source": [
    "# 상관관계\n",
    "X_corr = X.corr()\n",
    "X_corr"
   ]
  },
  {
   "cell_type": "code",
   "execution_count": 27,
   "metadata": {},
   "outputs": [
    {
     "data": {
      "text/plain": [
       "array([1997, 2005, 2009, 1999, 2006, 1991, 1985, 2003, 1989, 1996, 1984,\n",
       "       2000, 1998, 1994, 1988, 2007, 1992, 2008, 1987, 1986, 1990, 1995,\n",
       "       1981, 2012, 1983, 2010, 2002, 2011, 2004, 2001, 1993, 1971, 1975,\n",
       "       1982, 1979, 1980, 1978, 2016, 1976, 2018, 1977, 1962, 1974, 1970,\n",
       "       1972, 1969, 1973], dtype=int64)"
      ]
     },
     "execution_count": 27,
     "metadata": {},
     "output_type": "execute_result"
    }
   ],
   "source": [
    "X['completion_year'].sort_values(ascending=False)\n",
    "X['completion_year'].unique()"
   ]
  },
  {
   "cell_type": "code",
   "execution_count": 28,
   "metadata": {},
   "outputs": [
    {
     "data": {
      "image/png": "[encoded data removed]",
      "text/plain": [
       "<Figure size 864x576 with 16 Axes>"
      ]
     },
     "metadata": {
      "needs_background": "light"
     },
     "output_type": "display_data"
    }
   ],
   "source": [
    "from pandas.plotting import scatter_matrix\n",
    "scatter_matrix(X, figsize=(12, 8))\n",
    "plt.show()"
   ]
  },
  {
   "cell_type": "code",
   "execution_count": null,
   "metadata": {},
   "outputs": [],
   "source": []
  },
  {
   "cell_type": "code",
   "execution_count": 163,
   "metadata": {},
   "outputs": [
    {
     "data": {
      "text/html": [
       "<div>\n",
       "<style scoped>\n",
       "    .dataframe tbody tr th:only-of-type {\n",
       "        vertical-align: middle;\n",
       "    }\n",
       "\n",
       "    .dataframe tbody tr th {\n",
       "        vertical-align: top;\n",
       "    }\n",
       "\n",
       "    .dataframe thead th {\n",
       "        text-align: right;\n",
       "    }\n",
       "</style>\n",
       "<table border=\"1\" class=\"dataframe\">\n",
       "  <thead>\n",
       "    <tr style=\"text-align: right;\">\n",
       "      <th></th>\n",
       "      <th>region</th>\n",
       "      <th>region_sub</th>\n",
       "      <th>apt_name</th>\n",
       "      <th>apt_size</th>\n",
       "      <th>apt_floor</th>\n",
       "      <th>contract_date</th>\n",
       "      <th>contract_price</th>\n",
       "      <th>completion_year</th>\n",
       "      <th>street_num</th>\n",
       "      <th>street_name</th>\n",
       "    </tr>\n",
       "  </thead>\n",
       "  <tbody>\n",
       "    <tr>\n",
       "      <th>0</th>\n",
       "      <td>강원도</td>\n",
       "      <td>강릉시 견소동</td>\n",
       "      <td>송정한신</td>\n",
       "      <td>84.94</td>\n",
       "      <td>15</td>\n",
       "      <td>2012-09-14</td>\n",
       "      <td>114000000</td>\n",
       "      <td>1997</td>\n",
       "      <td>202</td>\n",
       "      <td>경강로2539번길 8</td>\n",
       "    </tr>\n",
       "    <tr>\n",
       "      <th>1</th>\n",
       "      <td>강원도</td>\n",
       "      <td>강릉시 견소동</td>\n",
       "      <td>송정한신</td>\n",
       "      <td>59.80</td>\n",
       "      <td>8</td>\n",
       "      <td>2012-09-15</td>\n",
       "      <td>96500000</td>\n",
       "      <td>1997</td>\n",
       "      <td>202</td>\n",
       "      <td>경강로2539번길 8</td>\n",
       "    </tr>\n",
       "    <tr>\n",
       "      <th>2</th>\n",
       "      <td>강원도</td>\n",
       "      <td>강릉시 견소동</td>\n",
       "      <td>송정한신</td>\n",
       "      <td>39.08</td>\n",
       "      <td>12</td>\n",
       "      <td>2012-09-15</td>\n",
       "      <td>67000000</td>\n",
       "      <td>1997</td>\n",
       "      <td>202</td>\n",
       "      <td>경강로2539번길 8</td>\n",
       "    </tr>\n",
       "    <tr>\n",
       "      <th>3</th>\n",
       "      <td>강원도</td>\n",
       "      <td>강릉시 견소동</td>\n",
       "      <td>송정한신</td>\n",
       "      <td>39.08</td>\n",
       "      <td>8</td>\n",
       "      <td>2012-09-15</td>\n",
       "      <td>67000000</td>\n",
       "      <td>1997</td>\n",
       "      <td>202</td>\n",
       "      <td>경강로2539번길 8</td>\n",
       "    </tr>\n",
       "    <tr>\n",
       "      <th>4</th>\n",
       "      <td>강원도</td>\n",
       "      <td>강릉시 견소동</td>\n",
       "      <td>송정해변신도브래뉴아파트</td>\n",
       "      <td>84.99</td>\n",
       "      <td>1</td>\n",
       "      <td>2012-09-07</td>\n",
       "      <td>140000000</td>\n",
       "      <td>2005</td>\n",
       "      <td>289</td>\n",
       "      <td>경강로2539번길 22</td>\n",
       "    </tr>\n",
       "    <tr>\n",
       "      <th>...</th>\n",
       "      <td>...</td>\n",
       "      <td>...</td>\n",
       "      <td>...</td>\n",
       "      <td>...</td>\n",
       "      <td>...</td>\n",
       "      <td>...</td>\n",
       "      <td>...</td>\n",
       "      <td>...</td>\n",
       "      <td>...</td>\n",
       "      <td>...</td>\n",
       "    </tr>\n",
       "    <tr>\n",
       "      <th>34027</th>\n",
       "      <td>충청북도</td>\n",
       "      <td>충주시 호암동</td>\n",
       "      <td>호반현대</td>\n",
       "      <td>59.76</td>\n",
       "      <td>9</td>\n",
       "      <td>2012-09-17</td>\n",
       "      <td>80000000</td>\n",
       "      <td>1994</td>\n",
       "      <td>547-6</td>\n",
       "      <td>신촌2길 29</td>\n",
       "    </tr>\n",
       "    <tr>\n",
       "      <th>34028</th>\n",
       "      <td>충청북도</td>\n",
       "      <td>충주시 호암동</td>\n",
       "      <td>호반현대</td>\n",
       "      <td>59.76</td>\n",
       "      <td>1</td>\n",
       "      <td>2012-09-22</td>\n",
       "      <td>91000000</td>\n",
       "      <td>1994</td>\n",
       "      <td>547-6</td>\n",
       "      <td>신촌2길 29</td>\n",
       "    </tr>\n",
       "    <tr>\n",
       "      <th>34029</th>\n",
       "      <td>충청북도</td>\n",
       "      <td>충주시 호암동</td>\n",
       "      <td>호반현대</td>\n",
       "      <td>59.76</td>\n",
       "      <td>5</td>\n",
       "      <td>2012-09-24</td>\n",
       "      <td>100000000</td>\n",
       "      <td>1994</td>\n",
       "      <td>547-6</td>\n",
       "      <td>신촌2길 29</td>\n",
       "    </tr>\n",
       "    <tr>\n",
       "      <th>34030</th>\n",
       "      <td>충청북도</td>\n",
       "      <td>충주시 호암동</td>\n",
       "      <td>호암동수채</td>\n",
       "      <td>84.93</td>\n",
       "      <td>2</td>\n",
       "      <td>2012-09-03</td>\n",
       "      <td>165000000</td>\n",
       "      <td>2007</td>\n",
       "      <td>905</td>\n",
       "      <td>호암중앙1로 47</td>\n",
       "    </tr>\n",
       "    <tr>\n",
       "      <th>34031</th>\n",
       "      <td>충청북도</td>\n",
       "      <td>충주시 호암동</td>\n",
       "      <td>호암리버빌(1단지)</td>\n",
       "      <td>84.68</td>\n",
       "      <td>1</td>\n",
       "      <td>2012-09-25</td>\n",
       "      <td>134000000</td>\n",
       "      <td>2002</td>\n",
       "      <td>221-23</td>\n",
       "      <td>원호암5길 32</td>\n",
       "    </tr>\n",
       "  </tbody>\n",
       "</table>\n",
       "<p>34032 rows × 10 columns</p>\n",
       "</div>"
      ],
      "text/plain": [
       "      region region_sub      apt_name  apt_size  apt_floor contract_date  \\\n",
       "0        강원도    강릉시 견소동          송정한신     84.94         15    2012-09-14   \n",
       "1        강원도    강릉시 견소동          송정한신     59.80          8    2012-09-15   \n",
       "2        강원도    강릉시 견소동          송정한신     39.08         12    2012-09-15   \n",
       "3        강원도    강릉시 견소동          송정한신     39.08          8    2012-09-15   \n",
       "4        강원도    강릉시 견소동  송정해변신도브래뉴아파트     84.99          1    2012-09-07   \n",
       "...      ...        ...           ...       ...        ...           ...   \n",
       "34027   충청북도    충주시 호암동          호반현대     59.76          9    2012-09-17   \n",
       "34028   충청북도    충주시 호암동          호반현대     59.76          1    2012-09-22   \n",
       "34029   충청북도    충주시 호암동          호반현대     59.76          5    2012-09-24   \n",
       "34030   충청북도    충주시 호암동         호암동수채     84.93          2    2012-09-03   \n",
       "34031   충청북도    충주시 호암동    호암리버빌(1단지)     84.68          1    2012-09-25   \n",
       "\n",
       "       contract_price  completion_year street_num   street_name  \n",
       "0           114000000             1997        202   경강로2539번길 8  \n",
       "1            96500000             1997        202   경강로2539번길 8  \n",
       "2            67000000             1997        202   경강로2539번길 8  \n",
       "3            67000000             1997        202   경강로2539번길 8  \n",
       "4           140000000             2005        289  경강로2539번길 22  \n",
       "...               ...              ...        ...           ...  \n",
       "34027        80000000             1994      547-6       신촌2길 29  \n",
       "34028        91000000             1994      547-6       신촌2길 29  \n",
       "34029       100000000             1994      547-6       신촌2길 29  \n",
       "34030       165000000             2007        905     호암중앙1로 47  \n",
       "34031       134000000             2002     221-23      원호암5길 32  \n",
       "\n",
       "[34032 rows x 10 columns]"
      ]
     },
     "execution_count": 163,
     "metadata": {},
     "output_type": "execute_result"
    }
   ],
   "source": [
    "pd.read_csv(data_files[1])"
   ]
  },
  {
   "cell_type": "code",
   "execution_count": 153,
   "metadata": {},
   "outputs": [],
   "source": [
    "df = pd.DataFrame([ data for data in zip(data_files)])"
   ]
  },
  {
   "cell_type": "code",
   "execution_count": 171,
   "metadata": {},
   "outputs": [
    {
     "data": {
      "text/plain": [
       "['data-files/201208.csv',\n",
       " 'data-files/201209.csv',\n",
       " 'data-files/201210.csv',\n",
       " 'data-files/201211.csv',\n",
       " 'data-files/201212.csv',\n",
       " 'data-files/201301.csv',\n",
       " 'data-files/201302.csv',\n",
       " 'data-files/201303.csv',\n",
       " 'data-files/201304.csv',\n",
       " 'data-files/201305.csv',\n",
       " 'data-files/201306.csv',\n",
       " 'data-files/201307.csv',\n",
       " 'data-files/201308.csv',\n",
       " 'data-files/201309.csv',\n",
       " 'data-files/201310.csv',\n",
       " 'data-files/201311.csv',\n",
       " 'data-files/201312.csv',\n",
       " 'data-files/201401.csv',\n",
       " 'data-files/201402.csv',\n",
       " 'data-files/201403.csv',\n",
       " 'data-files/201404.csv',\n",
       " 'data-files/201405.csv',\n",
       " 'data-files/201406.csv',\n",
       " 'data-files/201407.csv',\n",
       " 'data-files/201408.csv',\n",
       " 'data-files/201409.csv',\n",
       " 'data-files/201410.csv',\n",
       " 'data-files/201411.csv',\n",
       " 'data-files/201412.csv',\n",
       " 'data-files/201501.csv',\n",
       " 'data-files/201502.csv',\n",
       " 'data-files/201503.csv',\n",
       " 'data-files/201504.csv',\n",
       " 'data-files/201505.csv',\n",
       " 'data-files/201506.csv',\n",
       " 'data-files/201507.csv',\n",
       " 'data-files/201508.csv',\n",
       " 'data-files/201509.csv',\n",
       " 'data-files/201510.csv',\n",
       " 'data-files/201511.csv',\n",
       " 'data-files/201512.csv',\n",
       " 'data-files/201601.csv',\n",
       " 'data-files/201602.csv',\n",
       " 'data-files/201603.csv',\n",
       " 'data-files/201604.csv',\n",
       " 'data-files/201605.csv',\n",
       " 'data-files/201606.csv',\n",
       " 'data-files/201607.csv',\n",
       " 'data-files/201608.csv',\n",
       " 'data-files/201609.csv',\n",
       " 'data-files/201610.csv',\n",
       " 'data-files/201611.csv',\n",
       " 'data-files/201612.csv',\n",
       " 'data-files/201701.csv',\n",
       " 'data-files/201702.csv',\n",
       " 'data-files/201703.csv',\n",
       " 'data-files/201704.csv',\n",
       " 'data-files/201705.csv',\n",
       " 'data-files/201706.csv',\n",
       " 'data-files/201707.csv',\n",
       " 'data-files/201708.csv',\n",
       " 'data-files/201709.csv',\n",
       " 'data-files/201710.csv',\n",
       " 'data-files/201711.csv',\n",
       " 'data-files/201712.csv',\n",
       " 'data-files/201801.csv',\n",
       " 'data-files/201802.csv',\n",
       " 'data-files/201803.csv',\n",
       " 'data-files/201804.csv',\n",
       " 'data-files/201805.csv',\n",
       " 'data-files/201806.csv',\n",
       " 'data-files/201807.csv',\n",
       " 'data-files/201808.csv',\n",
       " 'data-files/201809.csv',\n",
       " 'data-files/201810.csv',\n",
       " 'data-files/201811.csv',\n",
       " 'data-files/201812.csv',\n",
       " 'data-files/201901.csv',\n",
       " 'data-files/201902.csv',\n",
       " 'data-files/201903.csv',\n",
       " 'data-files/201904.csv',\n",
       " 'data-files/201905.csv',\n",
       " 'data-files/201906.csv',\n",
       " 'data-files/201907.csv',\n",
       " 'data-files/201908.csv',\n",
       " 'data-files/201909.csv',\n",
       " 'data-files/201910.csv',\n",
       " 'data-files/201911.csv',\n",
       " 'data-files/201912.csv',\n",
       " 'data-files/202001.csv',\n",
       " 'data-files/202002.csv',\n",
       " 'data-files/202003.csv',\n",
       " 'data-files/202004.csv',\n",
       " 'data-files/202005.csv',\n",
       " 'data-files/202006.csv',\n",
       " 'data-files/202007.csv']"
      ]
     },
     "execution_count": 171,
     "metadata": {},
     "output_type": "execute_result"
    }
   ],
   "source": [
    "data_files"
   ]
  },
  {
   "cell_type": "code",
   "execution_count": 170,
   "metadata": {},
   "outputs": [
    {
     "ename": "ValueError",
     "evalue": "Invalid file path or buffer object type: <class 'list'>",
     "output_type": "error",
     "traceback": [
      "\u001b[1;31m---------------------------------------------------------------------------\u001b[0m",
      "\u001b[1;31mValueError\u001b[0m                                Traceback (most recent call last)",
      "\u001b[1;32m<ipython-input-170-e45679532840>\u001b[0m in \u001b[0;36m<module>\u001b[1;34m\u001b[0m\n\u001b[0;32m      2\u001b[0m \u001b[1;32mfor\u001b[0m \u001b[0mdata\u001b[0m \u001b[1;32min\u001b[0m \u001b[0mdata_files\u001b[0m\u001b[1;33m:\u001b[0m\u001b[1;33m\u001b[0m\u001b[1;33m\u001b[0m\u001b[0m\n\u001b[0;32m      3\u001b[0m     \u001b[1;32mfor\u001b[0m \u001b[0mn\u001b[0m \u001b[1;32min\u001b[0m \u001b[0mns\u001b[0m\u001b[1;33m:\u001b[0m\u001b[1;33m\u001b[0m\u001b[1;33m\u001b[0m\u001b[0m\n\u001b[1;32m----> 4\u001b[1;33m         \u001b[0mn\u001b[0m \u001b[1;33m=\u001b[0m \u001b[0mpd\u001b[0m\u001b[1;33m.\u001b[0m\u001b[0mread_csv\u001b[0m\u001b[1;33m(\u001b[0m\u001b[0mns\u001b[0m\u001b[1;33m)\u001b[0m\u001b[1;33m\u001b[0m\u001b[1;33m\u001b[0m\u001b[0m\n\u001b[0m",
      "\u001b[1;32mc:\\programdata\\miniconda3\\envs\\hoseo\\lib\\site-packages\\pandas\\io\\parsers.py\u001b[0m in \u001b[0;36mparser_f\u001b[1;34m(filepath_or_buffer, sep, delimiter, header, names, index_col, usecols, squeeze, prefix, mangle_dupe_cols, dtype, engine, converters, true_values, false_values, skipinitialspace, skiprows, skipfooter, nrows, na_values, keep_default_na, na_filter, verbose, skip_blank_lines, parse_dates, infer_datetime_format, keep_date_col, date_parser, dayfirst, cache_dates, iterator, chunksize, compression, thousands, decimal, lineterminator, quotechar, quoting, doublequote, escapechar, comment, encoding, dialect, error_bad_lines, warn_bad_lines, delim_whitespace, low_memory, memory_map, float_precision)\u001b[0m\n\u001b[0;32m    674\u001b[0m         )\n\u001b[0;32m    675\u001b[0m \u001b[1;33m\u001b[0m\u001b[0m\n\u001b[1;32m--> 676\u001b[1;33m         \u001b[1;32mreturn\u001b[0m \u001b[0m_read\u001b[0m\u001b[1;33m(\u001b[0m\u001b[0mfilepath_or_buffer\u001b[0m\u001b[1;33m,\u001b[0m \u001b[0mkwds\u001b[0m\u001b[1;33m)\u001b[0m\u001b[1;33m\u001b[0m\u001b[1;33m\u001b[0m\u001b[0m\n\u001b[0m\u001b[0;32m    677\u001b[0m \u001b[1;33m\u001b[0m\u001b[0m\n\u001b[0;32m    678\u001b[0m     \u001b[0mparser_f\u001b[0m\u001b[1;33m.\u001b[0m\u001b[0m__name__\u001b[0m \u001b[1;33m=\u001b[0m \u001b[0mname\u001b[0m\u001b[1;33m\u001b[0m\u001b[1;33m\u001b[0m\u001b[0m\n",
      "\u001b[1;32mc:\\programdata\\miniconda3\\envs\\hoseo\\lib\\site-packages\\pandas\\io\\parsers.py\u001b[0m in \u001b[0;36m_read\u001b[1;34m(filepath_or_buffer, kwds)\u001b[0m\n\u001b[0;32m    429\u001b[0m     \u001b[1;31m# See https://github.com/python/mypy/issues/1297\u001b[0m\u001b[1;33m\u001b[0m\u001b[1;33m\u001b[0m\u001b[1;33m\u001b[0m\u001b[0m\n\u001b[0;32m    430\u001b[0m     fp_or_buf, _, compression, should_close = get_filepath_or_buffer(\n\u001b[1;32m--> 431\u001b[1;33m         \u001b[0mfilepath_or_buffer\u001b[0m\u001b[1;33m,\u001b[0m \u001b[0mencoding\u001b[0m\u001b[1;33m,\u001b[0m \u001b[0mcompression\u001b[0m\u001b[1;33m\u001b[0m\u001b[1;33m\u001b[0m\u001b[0m\n\u001b[0m\u001b[0;32m    432\u001b[0m     )\n\u001b[0;32m    433\u001b[0m     \u001b[0mkwds\u001b[0m\u001b[1;33m[\u001b[0m\u001b[1;34m\"compression\"\u001b[0m\u001b[1;33m]\u001b[0m \u001b[1;33m=\u001b[0m \u001b[0mcompression\u001b[0m\u001b[1;33m\u001b[0m\u001b[1;33m\u001b[0m\u001b[0m\n",
      "\u001b[1;32mc:\\programdata\\miniconda3\\envs\\hoseo\\lib\\site-packages\\pandas\\io\\common.py\u001b[0m in \u001b[0;36mget_filepath_or_buffer\u001b[1;34m(filepath_or_buffer, encoding, compression, mode)\u001b[0m\n\u001b[0;32m    225\u001b[0m     \u001b[1;32mif\u001b[0m \u001b[1;32mnot\u001b[0m \u001b[0mis_file_like\u001b[0m\u001b[1;33m(\u001b[0m\u001b[0mfilepath_or_buffer\u001b[0m\u001b[1;33m)\u001b[0m\u001b[1;33m:\u001b[0m\u001b[1;33m\u001b[0m\u001b[1;33m\u001b[0m\u001b[0m\n\u001b[0;32m    226\u001b[0m         \u001b[0mmsg\u001b[0m \u001b[1;33m=\u001b[0m \u001b[1;34mf\"Invalid file path or buffer object type: {type(filepath_or_buffer)}\"\u001b[0m\u001b[1;33m\u001b[0m\u001b[1;33m\u001b[0m\u001b[0m\n\u001b[1;32m--> 227\u001b[1;33m         \u001b[1;32mraise\u001b[0m \u001b[0mValueError\u001b[0m\u001b[1;33m(\u001b[0m\u001b[0mmsg\u001b[0m\u001b[1;33m)\u001b[0m\u001b[1;33m\u001b[0m\u001b[1;33m\u001b[0m\u001b[0m\n\u001b[0m\u001b[0;32m    228\u001b[0m \u001b[1;33m\u001b[0m\u001b[0m\n\u001b[0;32m    229\u001b[0m     \u001b[1;32mreturn\u001b[0m \u001b[0mfilepath_or_buffer\u001b[0m\u001b[1;33m,\u001b[0m \u001b[1;32mNone\u001b[0m\u001b[1;33m,\u001b[0m \u001b[0mcompression\u001b[0m\u001b[1;33m,\u001b[0m \u001b[1;32mFalse\u001b[0m\u001b[1;33m\u001b[0m\u001b[1;33m\u001b[0m\u001b[0m\n",
      "\u001b[1;31mValueError\u001b[0m: Invalid file path or buffer object type: <class 'list'>"
     ]
    }
   ],
   "source": [
    "ns = data_files\n",
    "for data in data_files:\n",
    "    for n in ns:\n",
    "        n = pd.read_csv(ns)"
   ]
  },
  {
   "cell_type": "code",
   "execution_count": 155,
   "metadata": {},
   "outputs": [
    {
     "ename": "KeyError",
     "evalue": "\"['region' 'region_sub' 'apt_name' 'contract_date' 'street_num'\\n 'street_name' 'contract_price'] not found in axis\"",
     "output_type": "error",
     "traceback": [
      "\u001b[1;31m---------------------------------------------------------------------------\u001b[0m",
      "\u001b[1;31mKeyError\u001b[0m                                  Traceback (most recent call last)",
      "\u001b[1;32m<ipython-input-155-b4348662af20>\u001b[0m in \u001b[0;36m<module>\u001b[1;34m\u001b[0m\n\u001b[1;32m----> 1\u001b[1;33m \u001b[0mX\u001b[0m\u001b[1;33m=\u001b[0m \u001b[0mdf\u001b[0m\u001b[1;33m.\u001b[0m\u001b[0mdrop\u001b[0m\u001b[1;33m(\u001b[0m\u001b[1;33m[\u001b[0m\u001b[1;34m'region'\u001b[0m\u001b[1;33m,\u001b[0m\u001b[1;34m'region_sub'\u001b[0m\u001b[1;33m,\u001b[0m\u001b[1;34m'apt_name'\u001b[0m\u001b[1;33m,\u001b[0m\u001b[1;34m'contract_date'\u001b[0m\u001b[1;33m,\u001b[0m\u001b[1;34m'street_num'\u001b[0m\u001b[1;33m,\u001b[0m\u001b[1;34m'street_name'\u001b[0m\u001b[1;33m,\u001b[0m\u001b[1;34m'contract_price'\u001b[0m\u001b[1;33m]\u001b[0m\u001b[1;33m,\u001b[0m \u001b[0maxis\u001b[0m\u001b[1;33m=\u001b[0m\u001b[1;36m1\u001b[0m\u001b[1;33m)\u001b[0m\u001b[1;33m\u001b[0m\u001b[1;33m\u001b[0m\u001b[0m\n\u001b[0m\u001b[0;32m      2\u001b[0m \u001b[0my\u001b[0m\u001b[1;33m=\u001b[0m \u001b[0mtestD\u001b[0m\u001b[1;33m[\u001b[0m\u001b[1;34m'contract_price'\u001b[0m\u001b[1;33m]\u001b[0m\u001b[1;33m\u001b[0m\u001b[1;33m\u001b[0m\u001b[0m\n",
      "\u001b[1;32mc:\\programdata\\miniconda3\\envs\\hoseo\\lib\\site-packages\\pandas\\core\\frame.py\u001b[0m in \u001b[0;36mdrop\u001b[1;34m(self, labels, axis, index, columns, level, inplace, errors)\u001b[0m\n\u001b[0;32m   3995\u001b[0m             \u001b[0mlevel\u001b[0m\u001b[1;33m=\u001b[0m\u001b[0mlevel\u001b[0m\u001b[1;33m,\u001b[0m\u001b[1;33m\u001b[0m\u001b[1;33m\u001b[0m\u001b[0m\n\u001b[0;32m   3996\u001b[0m             \u001b[0minplace\u001b[0m\u001b[1;33m=\u001b[0m\u001b[0minplace\u001b[0m\u001b[1;33m,\u001b[0m\u001b[1;33m\u001b[0m\u001b[1;33m\u001b[0m\u001b[0m\n\u001b[1;32m-> 3997\u001b[1;33m             \u001b[0merrors\u001b[0m\u001b[1;33m=\u001b[0m\u001b[0merrors\u001b[0m\u001b[1;33m,\u001b[0m\u001b[1;33m\u001b[0m\u001b[1;33m\u001b[0m\u001b[0m\n\u001b[0m\u001b[0;32m   3998\u001b[0m         )\n\u001b[0;32m   3999\u001b[0m \u001b[1;33m\u001b[0m\u001b[0m\n",
      "\u001b[1;32mc:\\programdata\\miniconda3\\envs\\hoseo\\lib\\site-packages\\pandas\\core\\generic.py\u001b[0m in \u001b[0;36mdrop\u001b[1;34m(self, labels, axis, index, columns, level, inplace, errors)\u001b[0m\n\u001b[0;32m   3934\u001b[0m         \u001b[1;32mfor\u001b[0m \u001b[0maxis\u001b[0m\u001b[1;33m,\u001b[0m \u001b[0mlabels\u001b[0m \u001b[1;32min\u001b[0m \u001b[0maxes\u001b[0m\u001b[1;33m.\u001b[0m\u001b[0mitems\u001b[0m\u001b[1;33m(\u001b[0m\u001b[1;33m)\u001b[0m\u001b[1;33m:\u001b[0m\u001b[1;33m\u001b[0m\u001b[1;33m\u001b[0m\u001b[0m\n\u001b[0;32m   3935\u001b[0m             \u001b[1;32mif\u001b[0m \u001b[0mlabels\u001b[0m \u001b[1;32mis\u001b[0m \u001b[1;32mnot\u001b[0m \u001b[1;32mNone\u001b[0m\u001b[1;33m:\u001b[0m\u001b[1;33m\u001b[0m\u001b[1;33m\u001b[0m\u001b[0m\n\u001b[1;32m-> 3936\u001b[1;33m                 \u001b[0mobj\u001b[0m \u001b[1;33m=\u001b[0m \u001b[0mobj\u001b[0m\u001b[1;33m.\u001b[0m\u001b[0m_drop_axis\u001b[0m\u001b[1;33m(\u001b[0m\u001b[0mlabels\u001b[0m\u001b[1;33m,\u001b[0m \u001b[0maxis\u001b[0m\u001b[1;33m,\u001b[0m \u001b[0mlevel\u001b[0m\u001b[1;33m=\u001b[0m\u001b[0mlevel\u001b[0m\u001b[1;33m,\u001b[0m \u001b[0merrors\u001b[0m\u001b[1;33m=\u001b[0m\u001b[0merrors\u001b[0m\u001b[1;33m)\u001b[0m\u001b[1;33m\u001b[0m\u001b[1;33m\u001b[0m\u001b[0m\n\u001b[0m\u001b[0;32m   3937\u001b[0m \u001b[1;33m\u001b[0m\u001b[0m\n\u001b[0;32m   3938\u001b[0m         \u001b[1;32mif\u001b[0m \u001b[0minplace\u001b[0m\u001b[1;33m:\u001b[0m\u001b[1;33m\u001b[0m\u001b[1;33m\u001b[0m\u001b[0m\n",
      "\u001b[1;32mc:\\programdata\\miniconda3\\envs\\hoseo\\lib\\site-packages\\pandas\\core\\generic.py\u001b[0m in \u001b[0;36m_drop_axis\u001b[1;34m(self, labels, axis, level, errors)\u001b[0m\n\u001b[0;32m   3968\u001b[0m                 \u001b[0mnew_axis\u001b[0m \u001b[1;33m=\u001b[0m \u001b[0maxis\u001b[0m\u001b[1;33m.\u001b[0m\u001b[0mdrop\u001b[0m\u001b[1;33m(\u001b[0m\u001b[0mlabels\u001b[0m\u001b[1;33m,\u001b[0m \u001b[0mlevel\u001b[0m\u001b[1;33m=\u001b[0m\u001b[0mlevel\u001b[0m\u001b[1;33m,\u001b[0m \u001b[0merrors\u001b[0m\u001b[1;33m=\u001b[0m\u001b[0merrors\u001b[0m\u001b[1;33m)\u001b[0m\u001b[1;33m\u001b[0m\u001b[1;33m\u001b[0m\u001b[0m\n\u001b[0;32m   3969\u001b[0m             \u001b[1;32melse\u001b[0m\u001b[1;33m:\u001b[0m\u001b[1;33m\u001b[0m\u001b[1;33m\u001b[0m\u001b[0m\n\u001b[1;32m-> 3970\u001b[1;33m                 \u001b[0mnew_axis\u001b[0m \u001b[1;33m=\u001b[0m \u001b[0maxis\u001b[0m\u001b[1;33m.\u001b[0m\u001b[0mdrop\u001b[0m\u001b[1;33m(\u001b[0m\u001b[0mlabels\u001b[0m\u001b[1;33m,\u001b[0m \u001b[0merrors\u001b[0m\u001b[1;33m=\u001b[0m\u001b[0merrors\u001b[0m\u001b[1;33m)\u001b[0m\u001b[1;33m\u001b[0m\u001b[1;33m\u001b[0m\u001b[0m\n\u001b[0m\u001b[0;32m   3971\u001b[0m             \u001b[0mresult\u001b[0m \u001b[1;33m=\u001b[0m \u001b[0mself\u001b[0m\u001b[1;33m.\u001b[0m\u001b[0mreindex\u001b[0m\u001b[1;33m(\u001b[0m\u001b[1;33m**\u001b[0m\u001b[1;33m{\u001b[0m\u001b[0maxis_name\u001b[0m\u001b[1;33m:\u001b[0m \u001b[0mnew_axis\u001b[0m\u001b[1;33m}\u001b[0m\u001b[1;33m)\u001b[0m\u001b[1;33m\u001b[0m\u001b[1;33m\u001b[0m\u001b[0m\n\u001b[0;32m   3972\u001b[0m \u001b[1;33m\u001b[0m\u001b[0m\n",
      "\u001b[1;32mc:\\programdata\\miniconda3\\envs\\hoseo\\lib\\site-packages\\pandas\\core\\indexes\\base.py\u001b[0m in \u001b[0;36mdrop\u001b[1;34m(self, labels, errors)\u001b[0m\n\u001b[0;32m   5016\u001b[0m         \u001b[1;32mif\u001b[0m \u001b[0mmask\u001b[0m\u001b[1;33m.\u001b[0m\u001b[0many\u001b[0m\u001b[1;33m(\u001b[0m\u001b[1;33m)\u001b[0m\u001b[1;33m:\u001b[0m\u001b[1;33m\u001b[0m\u001b[1;33m\u001b[0m\u001b[0m\n\u001b[0;32m   5017\u001b[0m             \u001b[1;32mif\u001b[0m \u001b[0merrors\u001b[0m \u001b[1;33m!=\u001b[0m \u001b[1;34m\"ignore\"\u001b[0m\u001b[1;33m:\u001b[0m\u001b[1;33m\u001b[0m\u001b[1;33m\u001b[0m\u001b[0m\n\u001b[1;32m-> 5018\u001b[1;33m                 \u001b[1;32mraise\u001b[0m \u001b[0mKeyError\u001b[0m\u001b[1;33m(\u001b[0m\u001b[1;34mf\"{labels[mask]} not found in axis\"\u001b[0m\u001b[1;33m)\u001b[0m\u001b[1;33m\u001b[0m\u001b[1;33m\u001b[0m\u001b[0m\n\u001b[0m\u001b[0;32m   5019\u001b[0m             \u001b[0mindexer\u001b[0m \u001b[1;33m=\u001b[0m \u001b[0mindexer\u001b[0m\u001b[1;33m[\u001b[0m\u001b[1;33m~\u001b[0m\u001b[0mmask\u001b[0m\u001b[1;33m]\u001b[0m\u001b[1;33m\u001b[0m\u001b[1;33m\u001b[0m\u001b[0m\n\u001b[0;32m   5020\u001b[0m         \u001b[1;32mreturn\u001b[0m \u001b[0mself\u001b[0m\u001b[1;33m.\u001b[0m\u001b[0mdelete\u001b[0m\u001b[1;33m(\u001b[0m\u001b[0mindexer\u001b[0m\u001b[1;33m)\u001b[0m\u001b[1;33m\u001b[0m\u001b[1;33m\u001b[0m\u001b[0m\n",
      "\u001b[1;31mKeyError\u001b[0m: \"['region' 'region_sub' 'apt_name' 'contract_date' 'street_num'\\n 'street_name' 'contract_price'] not found in axis\""
     ]
    }
   ],
   "source": [
    "X= df.drop(['region','region_sub','apt_name','contract_date','street_num','street_name','contract_price'], axis=1)\n",
    "y= testD['contract_price']"
   ]
  },
  {
   "cell_type": "code",
   "execution_count": 117,
   "metadata": {},
   "outputs": [],
   "source": [
    "X_train, X_test, y_train, y_test = train_test_split(X, y, random_state=42)"
   ]
  },
  {
   "cell_type": "code",
   "execution_count": 118,
   "metadata": {},
   "outputs": [],
   "source": [
    "lr=LinearRegression() # y = 가격, x = 다른 요소들 # 모델 평가와 성능 향상"
   ]
  },
  {
   "cell_type": "code",
   "execution_count": 119,
   "metadata": {},
   "outputs": [
    {
     "data": {
      "text/plain": [
       "LinearRegression()"
      ]
     },
     "execution_count": 119,
     "metadata": {},
     "output_type": "execute_result"
    }
   ],
   "source": [
    "lr.fit(X_train, y_train)"
   ]
  },
  {
   "cell_type": "code",
   "execution_count": 120,
   "metadata": {},
   "outputs": [
    {
     "data": {
      "text/plain": [
       "(array([3240255.9245136 , 3199880.40166413, 1412466.4540799 ]),\n",
       " -2900194144.6201997)"
      ]
     },
     "execution_count": 120,
     "metadata": {},
     "output_type": "execute_result"
    }
   ],
   "source": [
    "lr.coef_, lr.intercept_"
   ]
  },
  {
   "cell_type": "code",
   "execution_count": 121,
   "metadata": {},
   "outputs": [
    {
     "name": "stdout",
     "output_type": "stream",
     "text": [
      "선형회귀 계수 :  [3240255.9245136  3199880.40166413 1412466.4540799 ]\n",
      "선형회귀 절편 :  -2900194144.6201997\n"
     ]
    }
   ],
   "source": [
    "print(\"선형회귀 계수 : \", lr.coef_)\n",
    "print(\"선형회귀 절편 : \", lr.intercept_)"
   ]
  },
  {
   "cell_type": "code",
   "execution_count": null,
   "metadata": {},
   "outputs": [],
   "source": []
  },
  {
   "cell_type": "code",
   "execution_count": 122,
   "metadata": {},
   "outputs": [
    {
     "data": {
      "text/plain": [
       "(0.427683748788635, 0.37299942070656233)"
      ]
     },
     "execution_count": 122,
     "metadata": {},
     "output_type": "execute_result"
    }
   ],
   "source": [
    "lr.score(X_train, y_train), lr.score(X_test, y_test)"
   ]
  },
  {
   "cell_type": "code",
   "execution_count": 123,
   "metadata": {},
   "outputs": [
    {
     "data": {
      "text/plain": [
       "(0.4276837487886348, 0.3729994216440343)"
      ]
     },
     "execution_count": 123,
     "metadata": {},
     "output_type": "execute_result"
    }
   ],
   "source": [
    "# Ridge\n",
    "from sklearn.linear_model import Ridge\n",
    "rlr = Ridge(alpha=0.1)\n",
    "rlr.fit(X_train, y_train)\n",
    "rlr.score(X_train, y_train), rlr.score(X_test, y_test)"
   ]
  },
  {
   "cell_type": "code",
   "execution_count": 124,
   "metadata": {},
   "outputs": [
    {
     "data": {
      "text/plain": [
       "(0.42768374878863513, 0.37299942070749115)"
      ]
     },
     "execution_count": 124,
     "metadata": {},
     "output_type": "execute_result"
    }
   ],
   "source": [
    "llr = Lasso(alpha=0.01)\n",
    "llr.fit(X_train, y_train)\n",
    "llr.score(X_train, y_train), llr.score(X_test, y_test)"
   ]
  },
  {
   "cell_type": "code",
   "execution_count": 125,
   "metadata": {},
   "outputs": [
    {
     "data": {
      "text/html": [
       "<div>\n",
       "<style scoped>\n",
       "    .dataframe tbody tr th:only-of-type {\n",
       "        vertical-align: middle;\n",
       "    }\n",
       "\n",
       "    .dataframe tbody tr th {\n",
       "        vertical-align: top;\n",
       "    }\n",
       "\n",
       "    .dataframe thead th {\n",
       "        text-align: right;\n",
       "    }\n",
       "</style>\n",
       "<table border=\"1\" class=\"dataframe\">\n",
       "  <thead>\n",
       "    <tr style=\"text-align: right;\">\n",
       "      <th></th>\n",
       "      <th>apt_size</th>\n",
       "      <th>apt_floor</th>\n",
       "      <th>completion_year</th>\n",
       "    </tr>\n",
       "  </thead>\n",
       "  <tbody>\n",
       "    <tr>\n",
       "      <th>9952</th>\n",
       "      <td>48.69</td>\n",
       "      <td>12</td>\n",
       "      <td>2005</td>\n",
       "    </tr>\n",
       "    <tr>\n",
       "      <th>2677</th>\n",
       "      <td>39.90</td>\n",
       "      <td>10</td>\n",
       "      <td>1996</td>\n",
       "    </tr>\n",
       "    <tr>\n",
       "      <th>21899</th>\n",
       "      <td>39.84</td>\n",
       "      <td>9</td>\n",
       "      <td>1999</td>\n",
       "    </tr>\n",
       "    <tr>\n",
       "      <th>10263</th>\n",
       "      <td>60.00</td>\n",
       "      <td>1</td>\n",
       "      <td>1995</td>\n",
       "    </tr>\n",
       "    <tr>\n",
       "      <th>16671</th>\n",
       "      <td>12.89</td>\n",
       "      <td>3</td>\n",
       "      <td>2012</td>\n",
       "    </tr>\n",
       "    <tr>\n",
       "      <th>...</th>\n",
       "      <td>...</td>\n",
       "      <td>...</td>\n",
       "      <td>...</td>\n",
       "    </tr>\n",
       "    <tr>\n",
       "      <th>21575</th>\n",
       "      <td>59.99</td>\n",
       "      <td>8</td>\n",
       "      <td>2002</td>\n",
       "    </tr>\n",
       "    <tr>\n",
       "      <th>5390</th>\n",
       "      <td>59.40</td>\n",
       "      <td>4</td>\n",
       "      <td>1994</td>\n",
       "    </tr>\n",
       "    <tr>\n",
       "      <th>860</th>\n",
       "      <td>26.80</td>\n",
       "      <td>9</td>\n",
       "      <td>1998</td>\n",
       "    </tr>\n",
       "    <tr>\n",
       "      <th>15795</th>\n",
       "      <td>84.98</td>\n",
       "      <td>2</td>\n",
       "      <td>2005</td>\n",
       "    </tr>\n",
       "    <tr>\n",
       "      <th>23654</th>\n",
       "      <td>38.49</td>\n",
       "      <td>6</td>\n",
       "      <td>2012</td>\n",
       "    </tr>\n",
       "  </tbody>\n",
       "</table>\n",
       "<p>19540 rows × 3 columns</p>\n",
       "</div>"
      ],
      "text/plain": [
       "       apt_size  apt_floor  completion_year\n",
       "9952      48.69         12             2005\n",
       "2677      39.90         10             1996\n",
       "21899     39.84          9             1999\n",
       "10263     60.00          1             1995\n",
       "16671     12.89          3             2012\n",
       "...         ...        ...              ...\n",
       "21575     59.99          8             2002\n",
       "5390      59.40          4             1994\n",
       "860       26.80          9             1998\n",
       "15795     84.98          2             2005\n",
       "23654     38.49          6             2012\n",
       "\n",
       "[19540 rows x 3 columns]"
      ]
     },
     "execution_count": 125,
     "metadata": {},
     "output_type": "execute_result"
    }
   ],
   "source": [
    "X_train"
   ]
  },
  {
   "cell_type": "code",
   "execution_count": null,
   "metadata": {},
   "outputs": [],
   "source": []
  },
  {
   "cell_type": "code",
   "execution_count": null,
   "metadata": {},
   "outputs": [],
   "source": []
  },
  {
   "cell_type": "code",
   "execution_count": null,
   "metadata": {},
   "outputs": [],
   "source": []
  }
 ],
 "metadata": {
  "kernelspec": {
   "display_name": "Python 3",
   "language": "python",
   "name": "python3"
  },
  "language_info": {
   "codemirror_mode": {
    "name": "ipython",
    "version": 3
   },
   "file_extension": ".py",
   "mimetype": "text/x-python",
   "name": "python",
   "nbconvert_exporter": "python",
   "pygments_lexer": "ipython3",
   "version": "3.6.10"
  }
 },
 "nbformat": 4,
 "nbformat_minor": 4
}
